{
 "cells": [
  {
   "attachments": {},
   "cell_type": "markdown",
   "metadata": {},
   "source": [
    "## Import and Setup"
   ]
  },
  {
   "cell_type": "code",
   "execution_count": 54,
   "metadata": {},
   "outputs": [],
   "source": [
    "import pandas as pd\n",
    "from datetime import timedelta\n",
    "import numpy as np\n",
    "from pathlib import Path\n",
    "from tqdm import tqdm\n",
    "\n",
    "import planetary_computer as pc\n",
    "from pystac_client import Client\n",
    "import geopy.distance as distance\n",
    "\n",
    "import rioxarray\n",
    "from PIL import Image\n",
    "import odc.stac\n",
    "import cv2"
   ]
  },
  {
   "cell_type": "code",
   "execution_count": 23,
   "metadata": {},
   "outputs": [],
   "source": [
    "catalog = Client.open(\n",
    "    \"https://planetarycomputer.microsoft.com/api/stac/v1\", modifier=pc.sign_inplace\n",
    ")"
   ]
  },
  {
   "attachments": {},
   "cell_type": "markdown",
   "metadata": {},
   "source": [
    "## Helper Functions"
   ]
  },
  {
   "cell_type": "code",
   "execution_count": 24,
   "metadata": {},
   "outputs": [],
   "source": [
    "def get_bounding_box(latitute, longitude, meter_buffer=50000):\n",
    "    \"\"\"\n",
    "    Given a latitude, longitude, and buffer in meters, returns a bounding\n",
    "    box around the point with the buffer on the left, right, top, and bottom.\n",
    "\n",
    "    Returns a list of [minx, miny, maxx, maxy]\n",
    "    \"\"\"\n",
    "    distance_search = distance.distance(meters=meter_buffer)\n",
    "    \n",
    "    # calculate the lat/long bounds based on ground distance\n",
    "    # bearings are cardinal directions to move (south, west, north, and east)   \n",
    "    min_lat = distance_search.destination(point=(latitute, longitude), bearing=180).latitude\n",
    "    min_long = distance_search.destination(point=(latitute, longitude), bearing=270).longitude\n",
    "    max_lat = distance_search.destination(point=(latitute, longitude), bearing=0).latitude\n",
    "    max_long = distance_search.destination(point=(latitute, longitude), bearing=90).longitude\n",
    "    \n",
    "    return [min_long, min_lat, max_long, max_lat]"
   ]
  },
  {
   "cell_type": "code",
   "execution_count": 25,
   "metadata": {},
   "outputs": [],
   "source": [
    "def get_date_range(date, time_buffer_days=15):\n",
    "    \"\"\"\n",
    "    Get a date range to search for in the planetary computer based\n",
    "    on a sample's date. The time range will include the sample date\n",
    "    and time_buffer_days days prior\n",
    "\n",
    "    Returns a string\n",
    "    \"\"\"\n",
    "    datetime_format = \"%Y-%m-%d\"\n",
    "    range_start = pd.to_datetime(date) - timedelta(days=time_buffer_days)\n",
    "    date_range = f\"{range_start.strftime(datetime_format)}/{pd.to_datetime(date).strftime(datetime_format)}\"\n",
    "\n",
    "    return date_range"
   ]
  },
  {
   "cell_type": "code",
   "execution_count": 26,
   "metadata": {},
   "outputs": [],
   "source": [
    "def crop_sentinel_image(item, bounding_box):\n",
    "    \"\"\"\n",
    "    Given a STAC item from Sentinel-2 and a bounding box tuple in the format\n",
    "    (minx, miny, maxx, maxy), return a cropped portion of the item's visual\n",
    "    imagery in the bounding box.\n",
    "\n",
    "    Returns the image as a numpy array with dimensions (color band, height, width)\n",
    "    \"\"\"\n",
    "    (minx, miny, maxx, maxy) = bounding_box\n",
    "\n",
    "    image = rioxarray.open_rasterio(pc.sign(item.assets[\"visual\"].href)).rio.clip_box(\n",
    "        minx=minx,\n",
    "        miny=miny,\n",
    "        maxx=maxx,\n",
    "        maxy=maxy,\n",
    "        crs=\"EPSG:4326\",\n",
    "    )\n",
    "\n",
    "    return image.to_numpy()"
   ]
  },
  {
   "cell_type": "code",
   "execution_count": 27,
   "metadata": {},
   "outputs": [],
   "source": [
    "def crop_landsat_image(item, bounding_box):\n",
    "    \"\"\"\n",
    "    Given a STAC item from Landsat and a bounding box tuple in the format\n",
    "    (minx, miny, maxx, maxy), return a cropped portion of the item's visual\n",
    "    imagery in the bounding box.\n",
    "\n",
    "    Returns the image as a numpy array with dimensions (color band, height, width)\n",
    "    \"\"\"\n",
    "    (minx, miny, maxx, maxy) = bounding_box\n",
    "\n",
    "    image = odc.stac.stac_load(\n",
    "        [pc.sign(item)], bands=[\"red\", \"green\", \"blue\"], bbox=[minx, miny, maxx, maxy]\n",
    "    ).isel(time=0)\n",
    "    image_array = image[[\"red\", \"green\", \"blue\"]].to_array().to_numpy()\n",
    "\n",
    "    # normalize to 0 - 255 values\n",
    "    image_array = cv2.normalize(image_array, None, 0, 255, cv2.NORM_MINMAX, dtype=cv2.CV_8U)\n",
    "\n",
    "    return image_array"
   ]
  },
  {
   "attachments": {},
   "cell_type": "markdown",
   "metadata": {},
   "source": [
    "## Prep to Get Data"
   ]
  },
  {
   "cell_type": "code",
   "execution_count": 28,
   "metadata": {},
   "outputs": [],
   "source": [
    "DATA_DIR = Path.cwd() / 'data'\n",
    "\n",
    "#IMAGE_DIR = DATA_DIR / 'images'\n",
    "IMAGE_DIR = DATA_DIR / 'sentinel-images'\n",
    "IMAGE_DIR.mkdir(exist_ok=True, parents=True)"
   ]
  },
  {
   "cell_type": "code",
   "execution_count": 29,
   "metadata": {},
   "outputs": [
    {
     "name": "stdout",
     "output_type": "stream",
     "text": [
      "(23570, 5)\n"
     ]
    },
    {
     "data": {
      "text/html": [
       "<div>\n",
       "<style scoped>\n",
       "    .dataframe tbody tr th:only-of-type {\n",
       "        vertical-align: middle;\n",
       "    }\n",
       "\n",
       "    .dataframe tbody tr th {\n",
       "        vertical-align: top;\n",
       "    }\n",
       "\n",
       "    .dataframe thead th {\n",
       "        text-align: right;\n",
       "    }\n",
       "</style>\n",
       "<table border=\"1\" class=\"dataframe\">\n",
       "  <thead>\n",
       "    <tr style=\"text-align: right;\">\n",
       "      <th></th>\n",
       "      <th>uid</th>\n",
       "      <th>latitude</th>\n",
       "      <th>longitude</th>\n",
       "      <th>date</th>\n",
       "      <th>split</th>\n",
       "    </tr>\n",
       "  </thead>\n",
       "  <tbody>\n",
       "    <tr>\n",
       "      <th>0</th>\n",
       "      <td>aabm</td>\n",
       "      <td>39.080319</td>\n",
       "      <td>-86.430867</td>\n",
       "      <td>2018-05-14</td>\n",
       "      <td>train</td>\n",
       "    </tr>\n",
       "    <tr>\n",
       "      <th>1</th>\n",
       "      <td>aabn</td>\n",
       "      <td>36.559700</td>\n",
       "      <td>-121.510000</td>\n",
       "      <td>2016-08-31</td>\n",
       "      <td>test</td>\n",
       "    </tr>\n",
       "    <tr>\n",
       "      <th>2</th>\n",
       "      <td>aacd</td>\n",
       "      <td>35.875083</td>\n",
       "      <td>-78.878434</td>\n",
       "      <td>2020-11-19</td>\n",
       "      <td>train</td>\n",
       "    </tr>\n",
       "    <tr>\n",
       "      <th>3</th>\n",
       "      <td>aaee</td>\n",
       "      <td>35.487000</td>\n",
       "      <td>-79.062133</td>\n",
       "      <td>2016-08-24</td>\n",
       "      <td>train</td>\n",
       "    </tr>\n",
       "    <tr>\n",
       "      <th>4</th>\n",
       "      <td>aaff</td>\n",
       "      <td>38.049471</td>\n",
       "      <td>-99.827001</td>\n",
       "      <td>2019-07-23</td>\n",
       "      <td>train</td>\n",
       "    </tr>\n",
       "  </tbody>\n",
       "</table>\n",
       "</div>"
      ],
      "text/plain": [
       "    uid   latitude   longitude       date  split\n",
       "0  aabm  39.080319  -86.430867 2018-05-14  train\n",
       "1  aabn  36.559700 -121.510000 2016-08-31   test\n",
       "2  aacd  35.875083  -78.878434 2020-11-19  train\n",
       "3  aaee  35.487000  -79.062133 2016-08-24  train\n",
       "4  aaff  38.049471  -99.827001 2019-07-23  train"
      ]
     },
     "execution_count": 29,
     "metadata": {},
     "output_type": "execute_result"
    }
   ],
   "source": [
    "metadata = pd.read_csv(DATA_DIR / 'metadata.csv')\n",
    "metadata.date = pd.to_datetime(metadata.date)\n",
    "print(metadata.shape)\n",
    "metadata.head()"
   ]
  },
  {
   "cell_type": "code",
   "execution_count": 30,
   "metadata": {},
   "outputs": [
    {
     "data": {
      "text/plain": [
       "train    17060\n",
       "test      6510\n",
       "Name: split, dtype: int64"
      ]
     },
     "execution_count": 30,
     "metadata": {},
     "output_type": "execute_result"
    }
   ],
   "source": [
    "metadata.split.value_counts()"
   ]
  },
  {
   "cell_type": "code",
   "execution_count": 31,
   "metadata": {},
   "outputs": [
    {
     "data": {
      "text/plain": [
       "train    17060\n",
       "test      6510\n",
       "Name: split, dtype: int64"
      ]
     },
     "execution_count": 31,
     "metadata": {},
     "output_type": "execute_result"
    }
   ],
   "source": [
    "\n",
    "# train_subset = metadata[metadata['split'] == 'train'].sample(n=2500, random_state=42)\n",
    "# locations_to_get = pd.concat([train_subset, metadata[metadata['split'] == 'test']])\n",
    "\n",
    "locations_to_get = metadata\n",
    "\n",
    "locations_to_get.split.value_counts()"
   ]
  },
  {
   "attachments": {},
   "cell_type": "markdown",
   "metadata": {},
   "source": [
    "## Get Data"
   ]
  },
  {
   "cell_type": "code",
   "execution_count": 33,
   "metadata": {},
   "outputs": [],
   "source": [
    "def select_best_image(items, date, latitude, longitude):\n",
    "    \"\"\"\n",
    "    Selects the best satellite item given a sample's date, latitude, and longitude.\n",
    "    If any Sentinel-2 items are available, they will be selected.\n",
    "    If not, then the closest Landsat-8 or Landsat-9 item will be selected.\n",
    "    \n",
    "    Returns a tuple of (STAC item, item platform name, item date)\n",
    "    \"\"\"\n",
    "    # get item details\n",
    "    item_details = pd.DataFrame(\n",
    "        [\n",
    "            {\n",
    "                \"datetime\": item.datetime.strftime(\"%Y-%m-%d\"),\n",
    "                \"platform\": item.properties[\"platform\"],\n",
    "                \"min_long\": item.bbox[0],\n",
    "                \"max_long\": item.bbox[2],\n",
    "                \"min_lat\": item.bbox[1],\n",
    "                \"max_lat\": item.bbox[3],\n",
    "                \"item_obj\": item,\n",
    "            }\n",
    "            for item in items\n",
    "        ]\n",
    "    )\n",
    "    \n",
    "    # filter to items that contain the point location, or return None if none contain the point\n",
    "    item_details[\"contains_sample_point\"] = (\n",
    "        (item_details.min_lat < latitude)\n",
    "        & (item_details.max_lat > latitude)\n",
    "        & (item_details.min_long < longitude)\n",
    "        & (item_details.max_long > longitude)\n",
    "    )\n",
    "    item_details = item_details[item_details[\"contains_sample_point\"] == True]\n",
    "    \n",
    "    if len(item_details) == 0:\n",
    "        return (np.nan, np.nan, np.nan)\n",
    "    \n",
    "    # add time difference between each item and the sample\n",
    "    item_details[\"time_diff\"] = pd.to_datetime(date) - pd.to_datetime(\n",
    "        item_details[\"datetime\"]\n",
    "    )\n",
    "    \n",
    "    # if we have sentinel-2, filter to sentinel-2 images only\n",
    "    item_details[\"sentinel\"] = item_details.platform.str.lower().str.contains(\n",
    "        \"sentinel\"\n",
    "    )\n",
    "    if item_details[\"sentinel\"].any():\n",
    "        item_details = item_details[item_details[\"sentinel\"] == True]\n",
    "        \n",
    "    # return the closest imagery by time\n",
    "    best_item = item_details.sort_values(by=\"time_diff\", ascending=True).iloc[0]\n",
    "    \n",
    "    return (best_item[\"item_obj\"], best_item[\"platform\"], best_item[\"datetime\"])"
   ]
  },
  {
   "cell_type": "code",
   "execution_count": 34,
   "metadata": {},
   "outputs": [
    {
     "name": "stderr",
     "output_type": "stream",
     "text": [
      "100%|██████████| 23570/23570 [2:41:10<00:00,  2.44it/s]   \n"
     ]
    }
   ],
   "source": [
    "#selected_items = {}\n",
    "paths_dict = {}\n",
    "errored_ids = []\n",
    "\n",
    "# i = 0\n",
    "for row in tqdm(locations_to_get.itertuples(), total=len(locations_to_get)):\n",
    "    # i += 1\n",
    "    # if i > 20: break\n",
    "    \n",
    "    image_pth = IMAGE_DIR / f\"{row.uid}.png\"\n",
    "    \n",
    "    if image_pth.exists():\n",
    "        pass\n",
    "        paths_dict[row.uid] = image_pth\n",
    "    \n",
    "    else:\n",
    "        try:\n",
    "            ## QUERY PLANETARY COMPUTER\n",
    "            search_bbox = get_bounding_box(\n",
    "                row.latitude,\n",
    "                row.longitude,\n",
    "                meter_buffer=1000\n",
    "            )\n",
    "            \n",
    "            search_date_range = get_date_range(\n",
    "                row.date,\n",
    "                time_buffer_days=15\n",
    "            )\n",
    "            \n",
    "            search_results = catalog.search(\n",
    "                collections=[\n",
    "                    \"sentinel-2-l2a\", \n",
    "                    #\"landsat-c2-l2\",\n",
    "                ],\n",
    "                bbox=search_bbox,\n",
    "                datetime=search_date_range,\n",
    "                query={\n",
    "                    \"eo:cloud_cover\": {\"lt\": 10},\n",
    "                    #\"platform\": {\"in\": [\"Sentinel-2A\", \"Sentinel-2B\", \"landsat-8\", \"landsat-9\"]},\n",
    "                }\n",
    "            )\n",
    "\n",
    "            items = [item for item in search_results.get_items()]\n",
    "            \n",
    "            \n",
    "            ## GET BEST IMAGE\n",
    "            if len(items) == 0:\n",
    "                pass\n",
    "            else:\n",
    "                pass\n",
    "                best_item, item_platform, item_date = select_best_image(\n",
    "                    items,\n",
    "                    row.date,\n",
    "                    row.latitude,\n",
    "                    row.longitude\n",
    "                )\n",
    "                if best_item is np.nan:\n",
    "                    raise Exception('No image found')\n",
    "                \n",
    "                # selected_items[row.uid] = {\n",
    "                #     'item_object': best_item,\n",
    "                #     'item_platform': item_platform,\n",
    "                #     'item_date': item_date,\n",
    "                # }\n",
    "            \n",
    "            \n",
    "            # SAVE IMAGE DATA\n",
    "            save_bbox = get_bounding_box(\n",
    "                row.latitude,\n",
    "                row.longitude,\n",
    "                meter_buffer=1000,\n",
    "            )\n",
    "            \n",
    "            if 'sentinel' in item_platform.lower():\n",
    "                image_array = crop_sentinel_image(best_item, save_bbox)\n",
    "            else:\n",
    "                image_array = crop_landsat_image(best_item, save_bbox)\n",
    "                \n",
    "            image = Image.fromarray(np.transpose(image_array, axes=[1, 2, 0]))\n",
    "            image.save(image_pth)\n",
    "            \n",
    "            paths_dict[row.uid] = image_pth\n",
    "            #selected_items[row.uid]['filename'] = image_pth\n",
    "            \n",
    "        except:\n",
    "            errored_ids.append(row.uid)"
   ]
  },
  {
   "cell_type": "code",
   "execution_count": 17,
   "metadata": {},
   "outputs": [
    {
     "data": {
      "text/plain": [
       "18"
      ]
     },
     "execution_count": 17,
     "metadata": {},
     "output_type": "execute_result"
    }
   ],
   "source": [
    "len(paths_dict)"
   ]
  },
  {
   "cell_type": "code",
   "execution_count": 18,
   "metadata": {},
   "outputs": [
    {
     "name": "stdout",
     "output_type": "stream",
     "text": [
      "Could not pull satellite imagery for 2 samples\n"
     ]
    }
   ],
   "source": [
    "# see how many ran into errors\n",
    "print(f\"Could not pull satellite imagery for {len(errored_ids)} samples\")"
   ]
  }
 ],
 "metadata": {
  "kernelspec": {
   "display_name": "algae",
   "language": "python",
   "name": "python3"
  },
  "language_info": {
   "codemirror_mode": {
    "name": "ipython",
    "version": 3
   },
   "file_extension": ".py",
   "mimetype": "text/x-python",
   "name": "python",
   "nbconvert_exporter": "python",
   "pygments_lexer": "ipython3",
   "version": "3.9.16"
  },
  "orig_nbformat": 4,
  "vscode": {
   "interpreter": {
    "hash": "d5064345b0d58fd2fcf3dda7597a90bdf293cddcb997317e100b9e3dab1db3ef"
   }
  }
 },
 "nbformat": 4,
 "nbformat_minor": 2
}
