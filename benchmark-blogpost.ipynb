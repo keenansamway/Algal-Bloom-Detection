{
 "cells": [
  {
   "cell_type": "code",
   "execution_count": 1,
   "metadata": {},
   "outputs": [],
   "source": [
    "import pandas as pd\n",
    "import geopandas as gpd\n",
    "from datetime import timedelta\n",
    "from shapely.geometry import Point\n",
    "import numpy as np\n",
    "import matplotlib.pyplot as plt\n",
    "import seaborn as sns\n",
    "from pathlib import Path\n",
    "from tqdm import tqdm\n",
    "\n",
    "from sklearn.metrics import mean_squared_error\n",
    "from sklearn.preprocessing import StandardScaler"
   ]
  },
  {
   "cell_type": "code",
   "execution_count": 2,
   "metadata": {},
   "outputs": [],
   "source": [
    "DATA_DIR = Path.cwd() / 'data'\n",
    "\n",
    "color_pal = sns.color_palette('Set1')\n",
    "\n",
    "world = gpd.read_file(gpd.datasets.get_path('naturalearth_lowres'))"
   ]
  },
  {
   "attachments": {},
   "cell_type": "markdown",
   "metadata": {},
   "source": [
    "## Explore metadata.csv"
   ]
  },
  {
   "cell_type": "code",
   "execution_count": 3,
   "metadata": {},
   "outputs": [
    {
     "data": {
      "text/html": [
       "<div>\n",
       "<style scoped>\n",
       "    .dataframe tbody tr th:only-of-type {\n",
       "        vertical-align: middle;\n",
       "    }\n",
       "\n",
       "    .dataframe tbody tr th {\n",
       "        vertical-align: top;\n",
       "    }\n",
       "\n",
       "    .dataframe thead th {\n",
       "        text-align: right;\n",
       "    }\n",
       "</style>\n",
       "<table border=\"1\" class=\"dataframe\">\n",
       "  <thead>\n",
       "    <tr style=\"text-align: right;\">\n",
       "      <th></th>\n",
       "      <th>uid</th>\n",
       "      <th>latitude</th>\n",
       "      <th>longitude</th>\n",
       "      <th>date</th>\n",
       "      <th>split</th>\n",
       "    </tr>\n",
       "  </thead>\n",
       "  <tbody>\n",
       "    <tr>\n",
       "      <th>0</th>\n",
       "      <td>aabm</td>\n",
       "      <td>39.080319</td>\n",
       "      <td>-86.430867</td>\n",
       "      <td>2018-05-14</td>\n",
       "      <td>train</td>\n",
       "    </tr>\n",
       "    <tr>\n",
       "      <th>1</th>\n",
       "      <td>aabn</td>\n",
       "      <td>36.559700</td>\n",
       "      <td>-121.510000</td>\n",
       "      <td>2016-08-31</td>\n",
       "      <td>test</td>\n",
       "    </tr>\n",
       "    <tr>\n",
       "      <th>2</th>\n",
       "      <td>aacd</td>\n",
       "      <td>35.875083</td>\n",
       "      <td>-78.878434</td>\n",
       "      <td>2020-11-19</td>\n",
       "      <td>train</td>\n",
       "    </tr>\n",
       "    <tr>\n",
       "      <th>3</th>\n",
       "      <td>aaee</td>\n",
       "      <td>35.487000</td>\n",
       "      <td>-79.062133</td>\n",
       "      <td>2016-08-24</td>\n",
       "      <td>train</td>\n",
       "    </tr>\n",
       "    <tr>\n",
       "      <th>4</th>\n",
       "      <td>aaff</td>\n",
       "      <td>38.049471</td>\n",
       "      <td>-99.827001</td>\n",
       "      <td>2019-07-23</td>\n",
       "      <td>train</td>\n",
       "    </tr>\n",
       "    <tr>\n",
       "      <th>...</th>\n",
       "      <td>...</td>\n",
       "      <td>...</td>\n",
       "      <td>...</td>\n",
       "      <td>...</td>\n",
       "      <td>...</td>\n",
       "    </tr>\n",
       "    <tr>\n",
       "      <th>23565</th>\n",
       "      <td>zzvv</td>\n",
       "      <td>36.708500</td>\n",
       "      <td>-121.749000</td>\n",
       "      <td>2014-12-02</td>\n",
       "      <td>test</td>\n",
       "    </tr>\n",
       "    <tr>\n",
       "      <th>23566</th>\n",
       "      <td>zzwo</td>\n",
       "      <td>39.792190</td>\n",
       "      <td>-99.971050</td>\n",
       "      <td>2017-06-19</td>\n",
       "      <td>train</td>\n",
       "    </tr>\n",
       "    <tr>\n",
       "      <th>23567</th>\n",
       "      <td>zzwq</td>\n",
       "      <td>35.794000</td>\n",
       "      <td>-79.012551</td>\n",
       "      <td>2015-03-24</td>\n",
       "      <td>train</td>\n",
       "    </tr>\n",
       "    <tr>\n",
       "      <th>23568</th>\n",
       "      <td>zzyb</td>\n",
       "      <td>35.742000</td>\n",
       "      <td>-79.238600</td>\n",
       "      <td>2016-11-21</td>\n",
       "      <td>train</td>\n",
       "    </tr>\n",
       "    <tr>\n",
       "      <th>23569</th>\n",
       "      <td>zzzi</td>\n",
       "      <td>39.767323</td>\n",
       "      <td>-96.028617</td>\n",
       "      <td>2015-08-31</td>\n",
       "      <td>test</td>\n",
       "    </tr>\n",
       "  </tbody>\n",
       "</table>\n",
       "<p>23570 rows × 5 columns</p>\n",
       "</div>"
      ],
      "text/plain": [
       "        uid   latitude   longitude        date  split\n",
       "0      aabm  39.080319  -86.430867  2018-05-14  train\n",
       "1      aabn  36.559700 -121.510000  2016-08-31   test\n",
       "2      aacd  35.875083  -78.878434  2020-11-19  train\n",
       "3      aaee  35.487000  -79.062133  2016-08-24  train\n",
       "4      aaff  38.049471  -99.827001  2019-07-23  train\n",
       "...     ...        ...         ...         ...    ...\n",
       "23565  zzvv  36.708500 -121.749000  2014-12-02   test\n",
       "23566  zzwo  39.792190  -99.971050  2017-06-19  train\n",
       "23567  zzwq  35.794000  -79.012551  2015-03-24  train\n",
       "23568  zzyb  35.742000  -79.238600  2016-11-21  train\n",
       "23569  zzzi  39.767323  -96.028617  2015-08-31   test\n",
       "\n",
       "[23570 rows x 5 columns]"
      ]
     },
     "execution_count": 3,
     "metadata": {},
     "output_type": "execute_result"
    }
   ],
   "source": [
    "metadata = pd.read_csv(DATA_DIR / 'metadata.csv')\n",
    "metadata"
   ]
  },
  {
   "cell_type": "code",
   "execution_count": 4,
   "metadata": {},
   "outputs": [
    {
     "data": {
      "text/plain": [
       "12681"
      ]
     },
     "execution_count": 4,
     "metadata": {},
     "output_type": "execute_result"
    }
   ],
   "source": [
    "(metadata['latitude'].astype(str) + ',' + metadata['longitude'].astype(str)).nunique()"
   ]
  },
  {
   "cell_type": "code",
   "execution_count": 5,
   "metadata": {},
   "outputs": [
    {
     "data": {
      "text/plain": [
       "train    17060\n",
       "test      6510\n",
       "Name: split, dtype: int64"
      ]
     },
     "execution_count": 5,
     "metadata": {},
     "output_type": "execute_result"
    }
   ],
   "source": [
    "metadata['split'].value_counts()"
   ]
  },
  {
   "cell_type": "code",
   "execution_count": 6,
   "metadata": {},
   "outputs": [
    {
     "data": {
      "text/plain": [
       "<matplotlib.legend.Legend at 0x28cd19f40>"
      ]
     },
     "execution_count": 6,
     "metadata": {},
     "output_type": "execute_result"
    },
    {
     "data": {
      "image/png": "[encoded data removed]",
      "text/plain": [
       "<Figure size 900x400 with 1 Axes>"
      ]
     },
     "metadata": {},
     "output_type": "display_data"
    }
   ],
   "source": [
    "fig, ax = plt.subplots(figsize=(9, 4))\n",
    "\n",
    "base = world[world.name == \"United States of America\"].plot(\n",
    "    edgecolor='gray',\n",
    "    color='ghostwhite',\n",
    "    figsize=(9, 4),\n",
    "    alpha=0.3,\n",
    "    ax=ax\n",
    ")\n",
    "\n",
    "train_metadata = metadata[metadata['split'] == 'train']\n",
    "geometry = [Point(xy) for xy in zip(train_metadata['longitude'], train_metadata['latitude'])]\n",
    "gdf = gpd.GeoDataFrame(train_metadata, geometry=geometry)\n",
    "gdf.plot(\n",
    "    ax=base,\n",
    "    marker='.',\n",
    "    markersize=3,\n",
    "    color='blue',\n",
    "    label='Train',\n",
    "    alpha=0.6\n",
    ")\n",
    "\n",
    "test_metadata = metadata[metadata['split'] == 'test']\n",
    "geometry = [Point(xy) for xy in zip(test_metadata['longitude'], test_metadata['latitude'])]\n",
    "gdf = gpd.GeoDataFrame(test_metadata, geometry=geometry)\n",
    "gdf.plot(\n",
    "    ax=base,\n",
    "    marker='.',\n",
    "    markersize=3,\n",
    "    color='orange',\n",
    "    label='Test',\n",
    "    alpha=0.6\n",
    ")\n",
    "\n",
    "plt.xlabel(\"Longitude\")\n",
    "plt.ylabel(\"Latitude\")\n",
    "plt.xlim([-125, -65])\n",
    "plt.ylim([25, 50])\n",
    "plt.legend(loc=4, markerscale=3)"
   ]
  },
  {
   "cell_type": "code",
   "execution_count": 7,
   "metadata": {},
   "outputs": [
    {
     "data": {
      "text/html": [
       "<div>\n",
       "<style scoped>\n",
       "    .dataframe tbody tr th:only-of-type {\n",
       "        vertical-align: middle;\n",
       "    }\n",
       "\n",
       "    .dataframe tbody tr th {\n",
       "        vertical-align: top;\n",
       "    }\n",
       "\n",
       "    .dataframe thead th {\n",
       "        text-align: right;\n",
       "    }\n",
       "</style>\n",
       "<table border=\"1\" class=\"dataframe\">\n",
       "  <thead>\n",
       "    <tr style=\"text-align: right;\">\n",
       "      <th></th>\n",
       "      <th>min_date</th>\n",
       "      <th>max_date</th>\n",
       "    </tr>\n",
       "    <tr>\n",
       "      <th>split</th>\n",
       "      <th></th>\n",
       "      <th></th>\n",
       "    </tr>\n",
       "  </thead>\n",
       "  <tbody>\n",
       "    <tr>\n",
       "      <th>test</th>\n",
       "      <td>2013-01-08</td>\n",
       "      <td>2021-12-29</td>\n",
       "    </tr>\n",
       "    <tr>\n",
       "      <th>train</th>\n",
       "      <td>2013-01-04</td>\n",
       "      <td>2021-12-14</td>\n",
       "    </tr>\n",
       "  </tbody>\n",
       "</table>\n",
       "</div>"
      ],
      "text/plain": [
       "        min_date   max_date\n",
       "split                      \n",
       "test  2013-01-08 2021-12-29\n",
       "train 2013-01-04 2021-12-14"
      ]
     },
     "execution_count": 7,
     "metadata": {},
     "output_type": "execute_result"
    }
   ],
   "source": [
    "metadata.date = pd.to_datetime(metadata.date)\n",
    "\n",
    "metadata.groupby('split').agg(min_date=('date', 'min'), max_date=('date', 'max'))"
   ]
  },
  {
   "cell_type": "code",
   "execution_count": 8,
   "metadata": {},
   "outputs": [
    {
     "data": {
      "text/plain": [
       "<AxesSubplot: title={'center': 'Distribution of years in the data'}, xlabel='Year', ylabel='Number of samples'>"
      ]
     },
     "execution_count": 8,
     "metadata": {},
     "output_type": "execute_result"
    },
    {
     "data": {
      "image/png": "[encoded data removed]",
      "text/plain": [
       "<Figure size 640x480 with 1 Axes>"
      ]
     },
     "metadata": {},
     "output_type": "display_data"
    }
   ],
   "source": [
    "pd.crosstab(metadata.date.dt.year, metadata.split).plot(\n",
    "    kind='bar',\n",
    "    ylabel='Number of samples',\n",
    "    xlabel='Year',\n",
    "    title='Distribution of years in the data'\n",
    ")"
   ]
  },
  {
   "cell_type": "code",
   "execution_count": 9,
   "metadata": {},
   "outputs": [
    {
     "data": {
      "text/plain": [
       "summer    10813\n",
       "spring     5045\n",
       "fall       4758\n",
       "winter     2954\n",
       "Name: season, dtype: int64"
      ]
     },
     "execution_count": 9,
     "metadata": {},
     "output_type": "execute_result"
    }
   ],
   "source": [
    "metadata[\"season\"] = (\n",
    "    metadata.date.dt.month.replace([12, 1, 2], \"winter\")\n",
    "    .replace([3, 4, 5], \"spring\")\n",
    "    .replace([6, 7, 8], \"summer\")\n",
    "    .replace([9, 10, 11], \"fall\")\n",
    ")\n",
    "metadata.season.value_counts()"
   ]
  },
  {
   "cell_type": "code",
   "execution_count": 10,
   "metadata": {},
   "outputs": [
    {
     "data": {
      "image/png": "[encoded data removed]",
      "text/plain": [
       "<Figure size 1000x500 with 4 Axes>"
      ]
     },
     "metadata": {},
     "output_type": "display_data"
    }
   ],
   "source": [
    "fig, axes = plt.subplots(2, 2, figsize=(10, 5))\n",
    "\n",
    "for season, ax in zip(metadata.season.unique(), axes.flatten()):\n",
    "    base = world[world.name == \"United States of America\"].plot(\n",
    "        edgecolor='gray',\n",
    "        color='ghostwhite',\n",
    "        alpha=0.3,\n",
    "        ax=ax\n",
    "    )\n",
    "    \n",
    "    sub = metadata[metadata.season == season]\n",
    "    geometry = [Point(xy) for xy in zip(sub['longitude'], sub['latitude'])]\n",
    "    gdf = gpd.GeoDataFrame(sub, geometry=geometry)\n",
    "    gdf.plot(\n",
    "        ax=base,\n",
    "        marker='.',\n",
    "        markersize=2.5\n",
    "    )\n",
    "    \n",
    "    ax.set_xlim([-125, -66])\n",
    "    ax.set_ylim([25, 50])\n",
    "    ax.set_title(f\"{season.capitalize()} data points\")\n",
    "    ax.axis(\"off\")"
   ]
  },
  {
   "attachments": {},
   "cell_type": "markdown",
   "metadata": {},
   "source": [
    "## Explore train_labels.csv"
   ]
  },
  {
   "cell_type": "code",
   "execution_count": 11,
   "metadata": {},
   "outputs": [
    {
     "data": {
      "text/html": [
       "<div>\n",
       "<style scoped>\n",
       "    .dataframe tbody tr th:only-of-type {\n",
       "        vertical-align: middle;\n",
       "    }\n",
       "\n",
       "    .dataframe tbody tr th {\n",
       "        vertical-align: top;\n",
       "    }\n",
       "\n",
       "    .dataframe thead th {\n",
       "        text-align: right;\n",
       "    }\n",
       "</style>\n",
       "<table border=\"1\" class=\"dataframe\">\n",
       "  <thead>\n",
       "    <tr style=\"text-align: right;\">\n",
       "      <th></th>\n",
       "      <th>uid</th>\n",
       "      <th>region</th>\n",
       "      <th>severity</th>\n",
       "      <th>density</th>\n",
       "    </tr>\n",
       "  </thead>\n",
       "  <tbody>\n",
       "    <tr>\n",
       "      <th>0</th>\n",
       "      <td>aabm</td>\n",
       "      <td>midwest</td>\n",
       "      <td>1</td>\n",
       "      <td>585.0</td>\n",
       "    </tr>\n",
       "    <tr>\n",
       "      <th>1</th>\n",
       "      <td>aacd</td>\n",
       "      <td>south</td>\n",
       "      <td>1</td>\n",
       "      <td>290.0</td>\n",
       "    </tr>\n",
       "    <tr>\n",
       "      <th>2</th>\n",
       "      <td>aaee</td>\n",
       "      <td>south</td>\n",
       "      <td>1</td>\n",
       "      <td>1614.0</td>\n",
       "    </tr>\n",
       "    <tr>\n",
       "      <th>3</th>\n",
       "      <td>aaff</td>\n",
       "      <td>midwest</td>\n",
       "      <td>3</td>\n",
       "      <td>111825.0</td>\n",
       "    </tr>\n",
       "    <tr>\n",
       "      <th>4</th>\n",
       "      <td>aafl</td>\n",
       "      <td>midwest</td>\n",
       "      <td>4</td>\n",
       "      <td>2017313.0</td>\n",
       "    </tr>\n",
       "    <tr>\n",
       "      <th>...</th>\n",
       "      <td>...</td>\n",
       "      <td>...</td>\n",
       "      <td>...</td>\n",
       "      <td>...</td>\n",
       "    </tr>\n",
       "    <tr>\n",
       "      <th>17055</th>\n",
       "      <td>zzsv</td>\n",
       "      <td>south</td>\n",
       "      <td>3</td>\n",
       "      <td>113125.0</td>\n",
       "    </tr>\n",
       "    <tr>\n",
       "      <th>17056</th>\n",
       "      <td>zzuq</td>\n",
       "      <td>south</td>\n",
       "      <td>3</td>\n",
       "      <td>175726.0</td>\n",
       "    </tr>\n",
       "    <tr>\n",
       "      <th>17057</th>\n",
       "      <td>zzwo</td>\n",
       "      <td>midwest</td>\n",
       "      <td>2</td>\n",
       "      <td>48510.0</td>\n",
       "    </tr>\n",
       "    <tr>\n",
       "      <th>17058</th>\n",
       "      <td>zzwq</td>\n",
       "      <td>south</td>\n",
       "      <td>1</td>\n",
       "      <td>1271.0</td>\n",
       "    </tr>\n",
       "    <tr>\n",
       "      <th>17059</th>\n",
       "      <td>zzyb</td>\n",
       "      <td>south</td>\n",
       "      <td>1</td>\n",
       "      <td>9682.0</td>\n",
       "    </tr>\n",
       "  </tbody>\n",
       "</table>\n",
       "<p>17060 rows × 4 columns</p>\n",
       "</div>"
      ],
      "text/plain": [
       "        uid   region  severity    density\n",
       "0      aabm  midwest         1      585.0\n",
       "1      aacd    south         1      290.0\n",
       "2      aaee    south         1     1614.0\n",
       "3      aaff  midwest         3   111825.0\n",
       "4      aafl  midwest         4  2017313.0\n",
       "...     ...      ...       ...        ...\n",
       "17055  zzsv    south         3   113125.0\n",
       "17056  zzuq    south         3   175726.0\n",
       "17057  zzwo  midwest         2    48510.0\n",
       "17058  zzwq    south         1     1271.0\n",
       "17059  zzyb    south         1     9682.0\n",
       "\n",
       "[17060 rows x 4 columns]"
      ]
     },
     "execution_count": 11,
     "metadata": {},
     "output_type": "execute_result"
    }
   ],
   "source": [
    "train_labels = pd.read_csv(DATA_DIR / 'train_labels.csv')\n",
    "train_labels"
   ]
  },
  {
   "cell_type": "code",
   "execution_count": 12,
   "metadata": {},
   "outputs": [
    {
     "data": {
      "text/plain": [
       "(17060, 4)"
      ]
     },
     "execution_count": 12,
     "metadata": {},
     "output_type": "execute_result"
    }
   ],
   "source": [
    "train_labels.shape"
   ]
  },
  {
   "cell_type": "code",
   "execution_count": 13,
   "metadata": {},
   "outputs": [],
   "source": [
    "train_labels_and_metadata = train_labels.merge(\n",
    "    metadata,\n",
    "    how='left',\n",
    "    left_on='uid',\n",
    "    right_on='uid',\n",
    "    validate='1:1'\n",
    ")"
   ]
  },
  {
   "cell_type": "code",
   "execution_count": 14,
   "metadata": {},
   "outputs": [
    {
     "data": {
      "text/html": [
       "<div>\n",
       "<style scoped>\n",
       "    .dataframe tbody tr th:only-of-type {\n",
       "        vertical-align: middle;\n",
       "    }\n",
       "\n",
       "    .dataframe tbody tr th {\n",
       "        vertical-align: top;\n",
       "    }\n",
       "\n",
       "    .dataframe thead th {\n",
       "        text-align: right;\n",
       "    }\n",
       "</style>\n",
       "<table border=\"1\" class=\"dataframe\">\n",
       "  <thead>\n",
       "    <tr style=\"text-align: right;\">\n",
       "      <th></th>\n",
       "      <th>uid</th>\n",
       "      <th>region</th>\n",
       "      <th>severity</th>\n",
       "      <th>density</th>\n",
       "      <th>latitude</th>\n",
       "      <th>longitude</th>\n",
       "      <th>date</th>\n",
       "      <th>split</th>\n",
       "      <th>season</th>\n",
       "    </tr>\n",
       "  </thead>\n",
       "  <tbody>\n",
       "    <tr>\n",
       "      <th>0</th>\n",
       "      <td>aabm</td>\n",
       "      <td>midwest</td>\n",
       "      <td>1</td>\n",
       "      <td>585.0</td>\n",
       "      <td>39.080319</td>\n",
       "      <td>-86.430867</td>\n",
       "      <td>2018-05-14</td>\n",
       "      <td>train</td>\n",
       "      <td>spring</td>\n",
       "    </tr>\n",
       "    <tr>\n",
       "      <th>1</th>\n",
       "      <td>aacd</td>\n",
       "      <td>south</td>\n",
       "      <td>1</td>\n",
       "      <td>290.0</td>\n",
       "      <td>35.875083</td>\n",
       "      <td>-78.878434</td>\n",
       "      <td>2020-11-19</td>\n",
       "      <td>train</td>\n",
       "      <td>fall</td>\n",
       "    </tr>\n",
       "    <tr>\n",
       "      <th>2</th>\n",
       "      <td>aaee</td>\n",
       "      <td>south</td>\n",
       "      <td>1</td>\n",
       "      <td>1614.0</td>\n",
       "      <td>35.487000</td>\n",
       "      <td>-79.062133</td>\n",
       "      <td>2016-08-24</td>\n",
       "      <td>train</td>\n",
       "      <td>summer</td>\n",
       "    </tr>\n",
       "    <tr>\n",
       "      <th>3</th>\n",
       "      <td>aaff</td>\n",
       "      <td>midwest</td>\n",
       "      <td>3</td>\n",
       "      <td>111825.0</td>\n",
       "      <td>38.049471</td>\n",
       "      <td>-99.827001</td>\n",
       "      <td>2019-07-23</td>\n",
       "      <td>train</td>\n",
       "      <td>summer</td>\n",
       "    </tr>\n",
       "    <tr>\n",
       "      <th>4</th>\n",
       "      <td>aafl</td>\n",
       "      <td>midwest</td>\n",
       "      <td>4</td>\n",
       "      <td>2017313.0</td>\n",
       "      <td>39.474744</td>\n",
       "      <td>-86.898353</td>\n",
       "      <td>2021-08-23</td>\n",
       "      <td>train</td>\n",
       "      <td>summer</td>\n",
       "    </tr>\n",
       "    <tr>\n",
       "      <th>...</th>\n",
       "      <td>...</td>\n",
       "      <td>...</td>\n",
       "      <td>...</td>\n",
       "      <td>...</td>\n",
       "      <td>...</td>\n",
       "      <td>...</td>\n",
       "      <td>...</td>\n",
       "      <td>...</td>\n",
       "      <td>...</td>\n",
       "    </tr>\n",
       "    <tr>\n",
       "      <th>17055</th>\n",
       "      <td>zzsv</td>\n",
       "      <td>south</td>\n",
       "      <td>3</td>\n",
       "      <td>113125.0</td>\n",
       "      <td>38.707825</td>\n",
       "      <td>-75.080867</td>\n",
       "      <td>2018-06-27</td>\n",
       "      <td>train</td>\n",
       "      <td>summer</td>\n",
       "    </tr>\n",
       "    <tr>\n",
       "      <th>17056</th>\n",
       "      <td>zzuq</td>\n",
       "      <td>south</td>\n",
       "      <td>3</td>\n",
       "      <td>175726.0</td>\n",
       "      <td>35.794000</td>\n",
       "      <td>-79.015368</td>\n",
       "      <td>2015-08-06</td>\n",
       "      <td>train</td>\n",
       "      <td>summer</td>\n",
       "    </tr>\n",
       "    <tr>\n",
       "      <th>17057</th>\n",
       "      <td>zzwo</td>\n",
       "      <td>midwest</td>\n",
       "      <td>2</td>\n",
       "      <td>48510.0</td>\n",
       "      <td>39.792190</td>\n",
       "      <td>-99.971050</td>\n",
       "      <td>2017-06-19</td>\n",
       "      <td>train</td>\n",
       "      <td>summer</td>\n",
       "    </tr>\n",
       "    <tr>\n",
       "      <th>17058</th>\n",
       "      <td>zzwq</td>\n",
       "      <td>south</td>\n",
       "      <td>1</td>\n",
       "      <td>1271.0</td>\n",
       "      <td>35.794000</td>\n",
       "      <td>-79.012551</td>\n",
       "      <td>2015-03-24</td>\n",
       "      <td>train</td>\n",
       "      <td>spring</td>\n",
       "    </tr>\n",
       "    <tr>\n",
       "      <th>17059</th>\n",
       "      <td>zzyb</td>\n",
       "      <td>south</td>\n",
       "      <td>1</td>\n",
       "      <td>9682.0</td>\n",
       "      <td>35.742000</td>\n",
       "      <td>-79.238600</td>\n",
       "      <td>2016-11-21</td>\n",
       "      <td>train</td>\n",
       "      <td>fall</td>\n",
       "    </tr>\n",
       "  </tbody>\n",
       "</table>\n",
       "<p>17060 rows × 9 columns</p>\n",
       "</div>"
      ],
      "text/plain": [
       "        uid   region  severity    density   latitude  longitude       date  \\\n",
       "0      aabm  midwest         1      585.0  39.080319 -86.430867 2018-05-14   \n",
       "1      aacd    south         1      290.0  35.875083 -78.878434 2020-11-19   \n",
       "2      aaee    south         1     1614.0  35.487000 -79.062133 2016-08-24   \n",
       "3      aaff  midwest         3   111825.0  38.049471 -99.827001 2019-07-23   \n",
       "4      aafl  midwest         4  2017313.0  39.474744 -86.898353 2021-08-23   \n",
       "...     ...      ...       ...        ...        ...        ...        ...   \n",
       "17055  zzsv    south         3   113125.0  38.707825 -75.080867 2018-06-27   \n",
       "17056  zzuq    south         3   175726.0  35.794000 -79.015368 2015-08-06   \n",
       "17057  zzwo  midwest         2    48510.0  39.792190 -99.971050 2017-06-19   \n",
       "17058  zzwq    south         1     1271.0  35.794000 -79.012551 2015-03-24   \n",
       "17059  zzyb    south         1     9682.0  35.742000 -79.238600 2016-11-21   \n",
       "\n",
       "       split  season  \n",
       "0      train  spring  \n",
       "1      train    fall  \n",
       "2      train  summer  \n",
       "3      train  summer  \n",
       "4      train  summer  \n",
       "...      ...     ...  \n",
       "17055  train  summer  \n",
       "17056  train  summer  \n",
       "17057  train  summer  \n",
       "17058  train  spring  \n",
       "17059  train    fall  \n",
       "\n",
       "[17060 rows x 9 columns]"
      ]
     },
     "execution_count": 14,
     "metadata": {},
     "output_type": "execute_result"
    }
   ],
   "source": [
    "train_labels_and_metadata"
   ]
  },
  {
   "cell_type": "code",
   "execution_count": 15,
   "metadata": {},
   "outputs": [
    {
     "data": {
      "text/plain": [
       "Text(0.5, 1.0, 'Train labels severity level counts')"
      ]
     },
     "execution_count": 15,
     "metadata": {},
     "output_type": "execute_result"
    },
    {
     "data": {
      "image/png": "[encoded data removed]",
      "text/plain": [
       "<Figure size 640x480 with 1 Axes>"
      ]
     },
     "metadata": {},
     "output_type": "display_data"
    }
   ],
   "source": [
    "severity_counts = (\n",
    "    train_labels.replace(\n",
    "        {\n",
    "            \"severity\": {\n",
    "                1: \"1 (<20,000)\",\n",
    "                2: \"2 (20,000-100,000)\",\n",
    "                3: \"3 (100,000 - 1,000,000)\",\n",
    "                4: \"4 (1,00,000 - 10,000,000)\",\n",
    "                5: \"5 (>10,000,00)\",\n",
    "            }\n",
    "        }\n",
    "    ).severity.value_counts().sort_index(ascending=False)\n",
    ")\n",
    "\n",
    "plt.barh(severity_counts.index, severity_counts.values)\n",
    "plt.xlabel(\"Number of samples\")\n",
    "plt.ylabel(\"Severity (range in cells/mL\")\n",
    "plt.title(\"Train labels severity level counts\")"
   ]
  },
  {
   "cell_type": "code",
   "execution_count": 16,
   "metadata": {},
   "outputs": [
    {
     "data": {
      "text/plain": [
       "count    1.706000e+04\n",
       "mean     1.074537e+06\n",
       "std      6.836693e+06\n",
       "min      0.000000e+00\n",
       "25%      4.066000e+03\n",
       "50%      3.270975e+04\n",
       "75%      4.849192e+05\n",
       "max      8.046675e+08\n",
       "Name: density, dtype: float64"
      ]
     },
     "execution_count": 16,
     "metadata": {},
     "output_type": "execute_result"
    }
   ],
   "source": [
    "train_labels.density.describe()"
   ]
  },
  {
   "cell_type": "code",
   "execution_count": 17,
   "metadata": {},
   "outputs": [
    {
     "data": {
      "text/plain": [
       "91"
      ]
     },
     "execution_count": 17,
     "metadata": {},
     "output_type": "execute_result"
    }
   ],
   "source": [
    "(train_labels.density == 0).sum()"
   ]
  },
  {
   "attachments": {},
   "cell_type": "markdown",
   "metadata": {},
   "source": [
    "## Explore submission_format.csv"
   ]
  },
  {
   "cell_type": "code",
   "execution_count": 18,
   "metadata": {},
   "outputs": [
    {
     "data": {
      "text/html": [
       "<div>\n",
       "<style scoped>\n",
       "    .dataframe tbody tr th:only-of-type {\n",
       "        vertical-align: middle;\n",
       "    }\n",
       "\n",
       "    .dataframe tbody tr th {\n",
       "        vertical-align: top;\n",
       "    }\n",
       "\n",
       "    .dataframe thead th {\n",
       "        text-align: right;\n",
       "    }\n",
       "</style>\n",
       "<table border=\"1\" class=\"dataframe\">\n",
       "  <thead>\n",
       "    <tr style=\"text-align: right;\">\n",
       "      <th></th>\n",
       "      <th>region</th>\n",
       "      <th>severity</th>\n",
       "    </tr>\n",
       "    <tr>\n",
       "      <th>uid</th>\n",
       "      <th></th>\n",
       "      <th></th>\n",
       "    </tr>\n",
       "  </thead>\n",
       "  <tbody>\n",
       "    <tr>\n",
       "      <th>aabn</th>\n",
       "      <td>west</td>\n",
       "      <td>1</td>\n",
       "    </tr>\n",
       "    <tr>\n",
       "      <th>aair</th>\n",
       "      <td>west</td>\n",
       "      <td>1</td>\n",
       "    </tr>\n",
       "    <tr>\n",
       "      <th>aajw</th>\n",
       "      <td>northeast</td>\n",
       "      <td>1</td>\n",
       "    </tr>\n",
       "    <tr>\n",
       "      <th>aalr</th>\n",
       "      <td>midwest</td>\n",
       "      <td>1</td>\n",
       "    </tr>\n",
       "    <tr>\n",
       "      <th>aalw</th>\n",
       "      <td>west</td>\n",
       "      <td>1</td>\n",
       "    </tr>\n",
       "    <tr>\n",
       "      <th>...</th>\n",
       "      <td>...</td>\n",
       "      <td>...</td>\n",
       "    </tr>\n",
       "    <tr>\n",
       "      <th>zzpn</th>\n",
       "      <td>northeast</td>\n",
       "      <td>1</td>\n",
       "    </tr>\n",
       "    <tr>\n",
       "      <th>zzrv</th>\n",
       "      <td>west</td>\n",
       "      <td>1</td>\n",
       "    </tr>\n",
       "    <tr>\n",
       "      <th>zzsx</th>\n",
       "      <td>south</td>\n",
       "      <td>1</td>\n",
       "    </tr>\n",
       "    <tr>\n",
       "      <th>zzvv</th>\n",
       "      <td>west</td>\n",
       "      <td>1</td>\n",
       "    </tr>\n",
       "    <tr>\n",
       "      <th>zzzi</th>\n",
       "      <td>midwest</td>\n",
       "      <td>1</td>\n",
       "    </tr>\n",
       "  </tbody>\n",
       "</table>\n",
       "<p>6510 rows × 2 columns</p>\n",
       "</div>"
      ],
      "text/plain": [
       "         region  severity\n",
       "uid                      \n",
       "aabn       west         1\n",
       "aair       west         1\n",
       "aajw  northeast         1\n",
       "aalr    midwest         1\n",
       "aalw       west         1\n",
       "...         ...       ...\n",
       "zzpn  northeast         1\n",
       "zzrv       west         1\n",
       "zzsx      south         1\n",
       "zzvv       west         1\n",
       "zzzi    midwest         1\n",
       "\n",
       "[6510 rows x 2 columns]"
      ]
     },
     "execution_count": 18,
     "metadata": {},
     "output_type": "execute_result"
    }
   ],
   "source": [
    "submission_format = pd.read_csv(DATA_DIR / 'submission_format.csv', index_col='uid')\n",
    "submission_format"
   ]
  },
  {
   "cell_type": "code",
   "execution_count": 19,
   "metadata": {},
   "outputs": [
    {
     "data": {
      "text/plain": [
       "(6510, 2)"
      ]
     },
     "execution_count": 19,
     "metadata": {},
     "output_type": "execute_result"
    }
   ],
   "source": [
    "submission_format.shape"
   ]
  },
  {
   "attachments": {},
   "cell_type": "markdown",
   "metadata": {},
   "source": [
    "## External Data\n",
    "\n",
    "##### The general steps we'll use to pull satellite data are:\n",
    "1. Establish a connection to the Planetary Computer's STAC API using the planetary_computer and pystac_client Python packages.\n",
    "\n",
    "2. Query the STAC API for scenes that capture our in situ labels. For each sample, we'll search for imagery that includes the sample's location (latitude and longitude) around the date the sample was taken. In this benchmark, we'll use only Sentinel-2 L2A and Landsat Level-2 data.\n",
    "\n",
    "3. Select one image for each sample. We'll use Sentinel-2 data wherever it is available, because it is higher resolution. We'll have to use Landsat for data before roughly 2016, because Sentinel-2 was not available yet.\n",
    "\n",
    "4. Convert the image to a 1-dimensional list of features that can be input into our tree model\n"
   ]
  },
  {
   "cell_type": "code",
   "execution_count": 20,
   "metadata": {},
   "outputs": [],
   "source": [
    "# Establish a connection to the STAC API\n",
    "import planetary_computer as pc\n",
    "from pystac_client import Client\n",
    "import geopy.distance as distance\n",
    "\n",
    "catalog = Client.open(\n",
    "    \"https://planetarycomputer.microsoft.com/api/stac/v1\", modifier=pc.sign_inplace\n",
    ")"
   ]
  },
  {
   "cell_type": "code",
   "execution_count": 21,
   "metadata": {},
   "outputs": [
    {
     "data": {
      "text/plain": [
       "uid                         uvat\n",
       "latitude                 37.4312\n",
       "longitude               -120.995\n",
       "date         2014-01-14 00:00:00\n",
       "split                      train\n",
       "season                    winter\n",
       "Name: 18889, dtype: object"
      ]
     },
     "execution_count": 21,
     "metadata": {},
     "output_type": "execute_result"
    }
   ],
   "source": [
    "example_row = metadata[metadata.uid == 'uvat'].iloc[0]\n",
    "example_row"
   ]
  },
  {
   "cell_type": "code",
   "execution_count": 22,
   "metadata": {},
   "outputs": [
    {
     "data": {
      "text/plain": [
       "[-121.05149301223803, 37.38614899579297, -120.93850698776198, 37.4762506599975]"
      ]
     },
     "execution_count": 22,
     "metadata": {},
     "output_type": "execute_result"
    }
   ],
   "source": [
    "# get our bounding box to search latitude and longitude coordinates\n",
    "def get_bounding_box(latitute, longitude, meter_buffer=50000):\n",
    "    \"\"\"\n",
    "    Given a latitude, longitude, and buffer in meters, returns a bounding\n",
    "    box around the point with the buffer on the left, right, top, and bottom.\n",
    "\n",
    "    Returns a list of [minx, miny, maxx, maxy]\n",
    "    \"\"\"\n",
    "    distance_search = distance.distance(meters=meter_buffer)\n",
    "    \n",
    "    # calculate the lat/long bounds based on ground distance\n",
    "    # bearings are cardinal directions to move (south, west, north, and east)   \n",
    "    min_lat = distance_search.destination(point=(latitute, longitude), bearing=180).latitude\n",
    "    min_long = distance_search.destination(point=(latitute, longitude), bearing=270).longitude\n",
    "    max_lat = distance_search.destination(point=(latitute, longitude), bearing=0).latitude\n",
    "    max_long = distance_search.destination(point=(latitute, longitude), bearing=90).longitude\n",
    "    \n",
    "    return [min_long, min_lat, max_long, max_lat]\n",
    "\n",
    "bbox = get_bounding_box(example_row.latitude, example_row.longitude, meter_buffer=5000)\n",
    "bbox\n"
   ]
  },
  {
   "cell_type": "code",
   "execution_count": 23,
   "metadata": {},
   "outputs": [
    {
     "data": {
      "text/plain": [
       "'2013-12-30/2014-01-14'"
      ]
     },
     "execution_count": 23,
     "metadata": {},
     "output_type": "execute_result"
    }
   ],
   "source": [
    "# get our date range to search, and format correctly for query\n",
    "def get_date_range(date, time_buffer_days=15):\n",
    "    \"\"\"Get a date range to search for in the planetary computer based\n",
    "    on a sample's date. The time range will include the sample date\n",
    "    and time_buffer_days days prior\n",
    "\n",
    "    Returns a string\"\"\"\n",
    "    datetime_format = \"%Y-%m-%d\"\n",
    "    range_start = pd.to_datetime(date) - timedelta(days=time_buffer_days)\n",
    "    date_range = f\"{range_start.strftime(datetime_format)}/{pd.to_datetime(date).strftime(datetime_format)}\"\n",
    "\n",
    "    return date_range\n",
    "\n",
    "\n",
    "date_range = get_date_range(example_row.date)\n",
    "date_range"
   ]
  },
  {
   "cell_type": "code",
   "execution_count": 24,
   "metadata": {},
   "outputs": [
    {
     "data": {
      "text/plain": [
       "2"
      ]
     },
     "execution_count": 24,
     "metadata": {},
     "output_type": "execute_result"
    }
   ],
   "source": [
    "# search the planetary computer sentinel-l2a and landsat level-2 collections\n",
    "search = catalog.search(\n",
    "    collections=[\"sentinel-2-l2a\", \"landsat-c2-l2\"],\n",
    "    bbox=bbox,\n",
    "    datetime=date_range,\n",
    "    query={\n",
    "        #\"eo:cloud_cover\": {\"lt\": 10},\n",
    "        \"platform\": {\"in\": [\"Sentinel-2A\", \"Sentinel-2B\", \"landsat-8\", \"landsat-9\"]},\n",
    "    }\n",
    ")\n",
    "\n",
    "# see how many items were returned\n",
    "items = [item for item in search.get_all_items()]\n",
    "len(items)"
   ]
  },
  {
   "cell_type": "code",
   "execution_count": 25,
   "metadata": {},
   "outputs": [],
   "source": [
    "# get details of all of the items returned\n",
    "item_details = pd.DataFrame(\n",
    "    [\n",
    "        {\n",
    "            \"datetime\": item.datetime.strftime(\"%Y-%m-%d\"),\n",
    "            \"platform\": item.properties[\"platform\"],\n",
    "            \"min_long\": item.bbox[0],\n",
    "            \"max_long\": item.bbox[2],\n",
    "            \"min_lat\": item.bbox[1],\n",
    "            \"max_lat\": item.bbox[3],\n",
    "            \"bbox\": item.bbox,\n",
    "            \"item_obj\": item,\n",
    "        }\n",
    "        for item in items\n",
    "    ]\n",
    ")"
   ]
  },
  {
   "cell_type": "code",
   "execution_count": 26,
   "metadata": {},
   "outputs": [],
   "source": [
    "# check which rows actually contain the sample location\n",
    "item_details['contains_sample_point'] = (\n",
    "    (item_details.min_lat < example_row.latitude)\n",
    "    & (example_row.latitude < item_details.max_lat)\n",
    "    & (item_details.min_long < example_row.longitude)\n",
    "    & (example_row.longitude < item_details.max_long)\n",
    ")"
   ]
  },
  {
   "cell_type": "code",
   "execution_count": 27,
   "metadata": {},
   "outputs": [
    {
     "data": {
      "text/html": [
       "<div>\n",
       "<style scoped>\n",
       "    .dataframe tbody tr th:only-of-type {\n",
       "        vertical-align: middle;\n",
       "    }\n",
       "\n",
       "    .dataframe tbody tr th {\n",
       "        vertical-align: top;\n",
       "    }\n",
       "\n",
       "    .dataframe thead th {\n",
       "        text-align: right;\n",
       "    }\n",
       "</style>\n",
       "<table border=\"1\" class=\"dataframe\">\n",
       "  <thead>\n",
       "    <tr style=\"text-align: right;\">\n",
       "      <th></th>\n",
       "      <th>datetime</th>\n",
       "      <th>platform</th>\n",
       "      <th>contains_sample_point</th>\n",
       "      <th>bbox</th>\n",
       "    </tr>\n",
       "  </thead>\n",
       "  <tbody>\n",
       "    <tr>\n",
       "      <th>1</th>\n",
       "      <td>2014-01-06</td>\n",
       "      <td>landsat-8</td>\n",
       "      <td>True</td>\n",
       "      <td>[-121.89774721, 36.39368486, -119.25368808, 38...</td>\n",
       "    </tr>\n",
       "    <tr>\n",
       "      <th>0</th>\n",
       "      <td>2014-01-13</td>\n",
       "      <td>landsat-8</td>\n",
       "      <td>True</td>\n",
       "      <td>[-123.42922723, 36.39751485, -120.78987801, 38...</td>\n",
       "    </tr>\n",
       "  </tbody>\n",
       "</table>\n",
       "</div>"
      ],
      "text/plain": [
       "     datetime   platform  contains_sample_point  \\\n",
       "1  2014-01-06  landsat-8                   True   \n",
       "0  2014-01-13  landsat-8                   True   \n",
       "\n",
       "                                                bbox  \n",
       "1  [-121.89774721, 36.39368486, -119.25368808, 38...  \n",
       "0  [-123.42922723, 36.39751485, -120.78987801, 38...  "
      ]
     },
     "execution_count": 27,
     "metadata": {},
     "output_type": "execute_result"
    }
   ],
   "source": [
    "item_details = item_details[item_details['contains_sample_point']]\n",
    "item_details[['datetime', 'platform', 'contains_sample_point', 'bbox']].sort_values(by='datetime')"
   ]
  },
  {
   "attachments": {},
   "cell_type": "markdown",
   "metadata": {},
   "source": [
    "### Inspect Sentinel Imagery"
   ]
  },
  {
   "cell_type": "code",
   "execution_count": 28,
   "metadata": {},
   "outputs": [
    {
     "data": {
      "text/html": [
       "<div>\n",
       "<style scoped>\n",
       "    .dataframe tbody tr th:only-of-type {\n",
       "        vertical-align: middle;\n",
       "    }\n",
       "\n",
       "    .dataframe tbody tr th {\n",
       "        vertical-align: top;\n",
       "    }\n",
       "\n",
       "    .dataframe thead th {\n",
       "        text-align: right;\n",
       "    }\n",
       "</style>\n",
       "<table border=\"1\" class=\"dataframe\">\n",
       "  <thead>\n",
       "    <tr style=\"text-align: right;\">\n",
       "      <th></th>\n",
       "      <th>datetime</th>\n",
       "      <th>platform</th>\n",
       "      <th>min_long</th>\n",
       "      <th>max_long</th>\n",
       "      <th>min_lat</th>\n",
       "      <th>max_lat</th>\n",
       "      <th>bbox</th>\n",
       "      <th>item_obj</th>\n",
       "      <th>contains_sample_point</th>\n",
       "    </tr>\n",
       "  </thead>\n",
       "  <tbody>\n",
       "  </tbody>\n",
       "</table>\n",
       "</div>"
      ],
      "text/plain": [
       "Empty DataFrame\n",
       "Columns: [datetime, platform, min_long, max_long, min_lat, max_lat, bbox, item_obj, contains_sample_point]\n",
       "Index: []"
      ]
     },
     "execution_count": 28,
     "metadata": {},
     "output_type": "execute_result"
    }
   ],
   "source": [
    "# 1 - filter to sentinel\n",
    "item_details[item_details.platform.str.contains('Sentinel')]"
   ]
  },
  {
   "cell_type": "code",
   "execution_count": 234,
   "metadata": {},
   "outputs": [
    {
     "data": {
      "text/plain": [
       "datetime                                                        2017-07-29\n",
       "platform                                                       Sentinel-2A\n",
       "min_long                                                        -95.504071\n",
       "max_long                                                        -94.111317\n",
       "min_lat                                                          43.254722\n",
       "max_lat                                                          44.247831\n",
       "bbox                     [-95.50407140709622, 43.254722400220366, -94.1...\n",
       "item_obj                 <Item id=S2A_MSIL2A_20170729T172111_R112_T15TU...\n",
       "contains_sample_point                                                 True\n",
       "Name: 1, dtype: object"
      ]
     },
     "execution_count": 234,
     "metadata": {},
     "output_type": "execute_result"
    }
   ],
   "source": [
    "# 2 - take closest by date\n",
    "best_item = (\n",
    "    item_details[item_details.platform.str.contains('Sentinel')]\n",
    "    .sort_values(by='datetime', ascending=False)\n",
    "    .iloc[0]\n",
    ")\n",
    "best_item"
   ]
  },
  {
   "cell_type": "code",
   "execution_count": null,
   "metadata": {},
   "outputs": [],
   "source": []
  },
  {
   "cell_type": "code",
   "execution_count": 235,
   "metadata": {},
   "outputs": [],
   "source": [
    "item = best_item.item_obj"
   ]
  },
  {
   "cell_type": "code",
   "execution_count": 236,
   "metadata": {},
   "outputs": [
    {
     "name": "stdout",
     "output_type": "stream",
     "text": [
      "AOT                       - Aerosol optical thickness (AOT)\n",
      "B01                       - Band 1 - Coastal aerosol - 60m\n",
      "B02                       - Band 2 - Blue - 10m\n",
      "B03                       - Band 3 - Green - 10m\n",
      "B04                       - Band 4 - Red - 10m\n",
      "B05                       - Band 5 - Vegetation red edge 1 - 20m\n",
      "B06                       - Band 6 - Vegetation red edge 2 - 20m\n",
      "B07                       - Band 7 - Vegetation red edge 3 - 20m\n",
      "B08                       - Band 8 - NIR - 10m\n",
      "B09                       - Band 9 - Water vapor - 60m\n",
      "B11                       - Band 11 - SWIR (1.6) - 20m\n",
      "B12                       - Band 12 - SWIR (2.2) - 20m\n",
      "B8A                       - Band 8A - Vegetation red edge 4 - 20m\n",
      "SCL                       - Scene classfication map (SCL)\n",
      "WVP                       - Water vapour (WVP)\n",
      "visual                    - True color image\n",
      "preview                   - Thumbnail\n",
      "safe-manifest             - SAFE manifest\n",
      "granule-metadata          - Granule metadata\n",
      "inspire-metadata          - INSPIRE metadata\n",
      "product-metadata          - Product metadata\n",
      "datastrip-metadata        - Datastrip metadata\n",
      "tilejson                  - TileJSON with default rendering\n",
      "rendered_preview          - Rendered preview\n"
     ]
    }
   ],
   "source": [
    "# What assets are available?\n",
    "for asset_key, asset in item.assets.items():\n",
    "    print(f\"{asset_key:<25} - {asset.title}\")"
   ]
  },
  {
   "cell_type": "code",
   "execution_count": 237,
   "metadata": {},
   "outputs": [],
   "source": [
    "import rioxarray\n",
    "from IPython.display import Image\n",
    "from PIL import Image as PILImage"
   ]
  },
  {
   "cell_type": "code",
   "execution_count": 238,
   "metadata": {},
   "outputs": [
    {
     "data": {
      "text/html": [
       "<img src=\"https://planetarycomputer.microsoft.com/api/data/v1/item/preview.png?collection=sentinel-2-l2a&item=S2A_MSIL2A_20170729T172111_R112_T15TUJ_20210210T161531&assets=visual&asset_bidx=visual%7C1%2C2%2C3&nodata=0&format=png\" width=\"500\"/>"
      ],
      "text/plain": [
       "<IPython.core.display.Image object>"
      ]
     },
     "metadata": {},
     "output_type": "display_data"
    }
   ],
   "source": [
    "img = Image(url=item.assets['rendered_preview'].href, width=500)\n",
    "\n",
    "display(img)"
   ]
  },
  {
   "cell_type": "code",
   "execution_count": 239,
   "metadata": {},
   "outputs": [],
   "source": [
    "def crop_sentinel_image(item, bounding_box):\n",
    "    \"\"\"\n",
    "    Given a STAC item from Sentinel-2 and a bounding box tuple in the format\n",
    "    (minx, miny, maxx, maxy), return a cropped portion of the item's visual\n",
    "    imagery in the bounding box.\n",
    "\n",
    "    Returns the image as a numpy array with dimensions (color band, height, width)\n",
    "    \"\"\"\n",
    "    (minx, miny, maxx, maxy) = bounding_box\n",
    "\n",
    "    image = rioxarray.open_rasterio(pc.sign(item.assets[\"visual\"].href)).rio.clip_box(\n",
    "        minx=minx,\n",
    "        miny=miny,\n",
    "        maxx=maxx,\n",
    "        maxy=maxy,\n",
    "        crs=\"EPSG:4326\",\n",
    "    )\n",
    "\n",
    "    return image.to_numpy()"
   ]
  },
  {
   "cell_type": "code",
   "execution_count": 240,
   "metadata": {},
   "outputs": [],
   "source": [
    "def get_asset(item, asset_key, bbox):\n",
    "    \"\"\"\n",
    "    Given a STAC item and an asset key, return the asset as a numpy array\n",
    "    \"\"\"\n",
    "    (minx, miny, maxx, maxy) = bbox\n",
    "    \n",
    "    image = rioxarray.open_rasterio(pc.sign(item.assets[asset_key].href)).rio.clip_box(\n",
    "        minx=minx,\n",
    "        miny=miny,\n",
    "        maxx=maxx,\n",
    "        maxy=maxy,\n",
    "        crs=\"EPSG:4326\",\n",
    "    )\n",
    "\n",
    "    return image.to_numpy()"
   ]
  },
  {
   "cell_type": "code",
   "execution_count": null,
   "metadata": {},
   "outputs": [],
   "source": [
    "# get a smaller geographic bounding box\n",
    "minx, miny, maxx, maxy = get_bounding_box(\n",
    "    example_row.latitude,\n",
    "    example_row.longitude,\n",
    "    meter_buffer=3000\n",
    ")\n",
    "\n",
    "# get the zoomed in image array\n",
    "bbox = (minx, miny, maxx, maxy)\n",
    "zoomed_img_array = crop_sentinel_image(item, bbox)\n",
    "\n",
    "zoomed_img_array[0]"
   ]
  },
  {
   "cell_type": "code",
   "execution_count": null,
   "metadata": {},
   "outputs": [],
   "source": [
    "PILImage.fromarray(np.transpose(zoomed_img_array, axes=[1, 2, 0]))"
   ]
  },
  {
   "cell_type": "code",
   "execution_count": 88,
   "metadata": {},
   "outputs": [],
   "source": [
    "visual = get_asset(item, 'visual', bbox)"
   ]
  },
  {
   "cell_type": "code",
   "execution_count": 91,
   "metadata": {},
   "outputs": [
    {
     "data": {
      "text/plain": [
       "(1, 302, 302)"
      ]
     },
     "execution_count": 91,
     "metadata": {},
     "output_type": "execute_result"
    }
   ],
   "source": [
    "b11 = get_asset(item, 'B11', bbox)\n",
    "b11.shape"
   ]
  },
  {
   "cell_type": "code",
   "execution_count": 68,
   "metadata": {},
   "outputs": [],
   "source": [
    "visual = rioxarray.open_rasterio(pc.sign(item.assets[\"visual\"].href)).rio.clip_box(\n",
    "        minx=minx,\n",
    "        miny=miny,\n",
    "        maxx=maxx,\n",
    "        maxy=maxy,\n",
    "        crs=\"EPSG:4326\",\n",
    "    ).to_numpy()"
   ]
  },
  {
   "cell_type": "code",
   "execution_count": 97,
   "metadata": {},
   "outputs": [
    {
     "data": {
      "text/plain": [
       "{'datetime': '2021-09-24T18:11:01.024000Z',\n",
       " 'platform': 'Sentinel-2A',\n",
       " 'proj:epsg': 32612,\n",
       " 'instruments': ['msi'],\n",
       " 's2:mgrs_tile': '12TWM',\n",
       " 'constellation': 'Sentinel 2',\n",
       " 's2:granule_id': 'S2A_OPER_MSI_L2A_TL_ESRI_20210925T141710_A032685_T12TWM_N03.00',\n",
       " 'eo:cloud_cover': 0.171977,\n",
       " 's2:datatake_id': 'GS2A_20210924T181101_032685_N03.00',\n",
       " 's2:product_uri': 'S2A_MSIL2A_20210924T181101_N0300_R084_T12TWM_20210925T141709.SAFE',\n",
       " 's2:datastrip_id': 'S2A_OPER_MSI_L2A_DS_ESRI_20210925T141710_S20210924T181603_N03.00',\n",
       " 's2:product_type': 'S2MSI2A',\n",
       " 'sat:orbit_state': 'descending',\n",
       " 's2:datatake_type': 'INS-NOBS',\n",
       " 's2:generation_time': '2021-09-25T14:17:09.626407Z',\n",
       " 'sat:relative_orbit': 84,\n",
       " 's2:water_percentage': 0.331475,\n",
       " 's2:mean_solar_zenith': 44.2224003450655,\n",
       " 's2:mean_solar_azimuth': 161.724195647543,\n",
       " 's2:processing_baseline': '03.00',\n",
       " 's2:snow_ice_percentage': 0.000438,\n",
       " 's2:vegetation_percentage': 8.349115,\n",
       " 's2:thin_cirrus_percentage': 0.0,\n",
       " 's2:cloud_shadow_percentage': 0.005614,\n",
       " 's2:nodata_pixel_percentage': 2e-05,\n",
       " 's2:unclassified_percentage': 0.41126,\n",
       " 's2:dark_features_percentage': 0.19563,\n",
       " 's2:not_vegetated_percentage': 90.53449,\n",
       " 's2:degraded_msi_data_percentage': 0.0,\n",
       " 's2:high_proba_clouds_percentage': 0.076868,\n",
       " 's2:reflectance_conversion_factor': 0.99255341680259,\n",
       " 's2:medium_proba_clouds_percentage': 0.095109,\n",
       " 's2:saturated_defective_pixel_percentage': 0.0}"
      ]
     },
     "execution_count": 97,
     "metadata": {},
     "output_type": "execute_result"
    }
   ],
   "source": [
    "item.properties"
   ]
  },
  {
   "cell_type": "code",
   "execution_count": 98,
   "metadata": {},
   "outputs": [
    {
     "data": {
      "text/plain": [
       "0.171977"
      ]
     },
     "execution_count": 98,
     "metadata": {},
     "output_type": "execute_result"
    }
   ],
   "source": [
    "item.properties['eo:cloud_cover']"
   ]
  },
  {
   "cell_type": "code",
   "execution_count": 99,
   "metadata": {},
   "outputs": [],
   "source": [
    "scl = rioxarray.open_rasterio(pc.sign(item.assets[\"SCL\"].href)).rio.clip_box(\n",
    "        minx=minx,\n",
    "        miny=miny,\n",
    "        maxx=maxx,\n",
    "        maxy=maxy,\n",
    "        crs=\"EPSG:4326\",\n",
    "    ).to_numpy()[0]"
   ]
  },
  {
   "cell_type": "code",
   "execution_count": 100,
   "metadata": {},
   "outputs": [
    {
     "data": {
      "text/plain": [
       "<matplotlib.image.AxesImage at 0x2977235b0>"
      ]
     },
     "execution_count": 100,
     "metadata": {},
     "output_type": "execute_result"
    },
    {
     "data": {
      "image/png": "[encoded data removed]",
      "text/plain": [
       "<Figure size 640x480 with 1 Axes>"
      ]
     },
     "metadata": {},
     "output_type": "display_data"
    }
   ],
   "source": [
    "plt.imshow(scl)"
   ]
  },
  {
   "cell_type": "code",
   "execution_count": 242,
   "metadata": {},
   "outputs": [
    {
     "data": {
      "text/plain": [
       "<matplotlib.image.AxesImage at 0x3822ed670>"
      ]
     },
     "execution_count": 242,
     "metadata": {},
     "output_type": "execute_result"
    },
    {
     "data": {
      "image/png": "[encoded data removed]",
      "text/plain": [
       "<Figure size 640x480 with 1 Axes>"
      ]
     },
     "metadata": {},
     "output_type": "display_data"
    }
   ],
   "source": [
    "# we have to transpose some of the dimensions to plot\n",
    "# matplotlib expects channels in a certain order\n",
    "plt.imshow(np.transpose(zoomed_img_array, axes=[1, 2, 0]))"
   ]
  },
  {
   "attachments": {},
   "cell_type": "markdown",
   "metadata": {},
   "source": [
    "### Inspect Landsat imagery"
   ]
  },
  {
   "cell_type": "code",
   "execution_count": 33,
   "metadata": {},
   "outputs": [],
   "source": [
    "import odc.stac\n",
    "import cv2"
   ]
  },
  {
   "cell_type": "code",
   "execution_count": 29,
   "metadata": {},
   "outputs": [
    {
     "data": {
      "text/html": [
       "<div>\n",
       "<style scoped>\n",
       "    .dataframe tbody tr th:only-of-type {\n",
       "        vertical-align: middle;\n",
       "    }\n",
       "\n",
       "    .dataframe tbody tr th {\n",
       "        vertical-align: top;\n",
       "    }\n",
       "\n",
       "    .dataframe thead th {\n",
       "        text-align: right;\n",
       "    }\n",
       "</style>\n",
       "<table border=\"1\" class=\"dataframe\">\n",
       "  <thead>\n",
       "    <tr style=\"text-align: right;\">\n",
       "      <th></th>\n",
       "      <th>datetime</th>\n",
       "      <th>platform</th>\n",
       "      <th>min_long</th>\n",
       "      <th>max_long</th>\n",
       "      <th>min_lat</th>\n",
       "      <th>max_lat</th>\n",
       "      <th>bbox</th>\n",
       "      <th>item_obj</th>\n",
       "      <th>contains_sample_point</th>\n",
       "    </tr>\n",
       "  </thead>\n",
       "  <tbody>\n",
       "    <tr>\n",
       "      <th>0</th>\n",
       "      <td>2014-01-13</td>\n",
       "      <td>landsat-8</td>\n",
       "      <td>-123.429227</td>\n",
       "      <td>-120.789878</td>\n",
       "      <td>36.397515</td>\n",
       "      <td>38.525545</td>\n",
       "      <td>[-123.42922723, 36.39751485, -120.78987801, 38...</td>\n",
       "      <td>&lt;Item id=LC08_L2SP_044034_20140113_02_T1&gt;</td>\n",
       "      <td>True</td>\n",
       "    </tr>\n",
       "    <tr>\n",
       "      <th>1</th>\n",
       "      <td>2014-01-06</td>\n",
       "      <td>landsat-8</td>\n",
       "      <td>-121.897747</td>\n",
       "      <td>-119.253688</td>\n",
       "      <td>36.393685</td>\n",
       "      <td>38.534355</td>\n",
       "      <td>[-121.89774721, 36.39368486, -119.25368808, 38...</td>\n",
       "      <td>&lt;Item id=LC08_L2SP_043034_20140106_02_T1&gt;</td>\n",
       "      <td>True</td>\n",
       "    </tr>\n",
       "  </tbody>\n",
       "</table>\n",
       "</div>"
      ],
      "text/plain": [
       "     datetime   platform    min_long    max_long    min_lat    max_lat  \\\n",
       "0  2014-01-13  landsat-8 -123.429227 -120.789878  36.397515  38.525545   \n",
       "1  2014-01-06  landsat-8 -121.897747 -119.253688  36.393685  38.534355   \n",
       "\n",
       "                                                bbox  \\\n",
       "0  [-123.42922723, 36.39751485, -120.78987801, 38...   \n",
       "1  [-121.89774721, 36.39368486, -119.25368808, 38...   \n",
       "\n",
       "                                    item_obj  contains_sample_point  \n",
       "0  <Item id=LC08_L2SP_044034_20140113_02_T1>                   True  \n",
       "1  <Item id=LC08_L2SP_043034_20140106_02_T1>                   True  "
      ]
     },
     "execution_count": 29,
     "metadata": {},
     "output_type": "execute_result"
    }
   ],
   "source": [
    "item_details[item_details.platform.str.contains('|'.join(['landsat-8', 'landsat-9', 'Sentinel']))]"
   ]
  },
  {
   "cell_type": "code",
   "execution_count": 30,
   "metadata": {},
   "outputs": [
    {
     "data": {
      "text/plain": [
       "datetime                                                        2014-01-13\n",
       "platform                                                         landsat-8\n",
       "min_long                                                       -123.429227\n",
       "max_long                                                       -120.789878\n",
       "min_lat                                                          36.397515\n",
       "max_lat                                                          38.525545\n",
       "bbox                     [-123.42922723, 36.39751485, -120.78987801, 38...\n",
       "item_obj                         <Item id=LC08_L2SP_044034_20140113_02_T1>\n",
       "contains_sample_point                                                 True\n",
       "Name: 0, dtype: object"
      ]
     },
     "execution_count": 30,
     "metadata": {},
     "output_type": "execute_result"
    }
   ],
   "source": [
    "landsat_item = (\n",
    "    item_details[item_details.platform.str.contains('landsat-8|landsat-9')]\n",
    "    #.sample(n=1, random_state=3)\n",
    "    .iloc[0]\n",
    ")\n",
    "landsat_item"
   ]
  },
  {
   "cell_type": "code",
   "execution_count": 39,
   "metadata": {},
   "outputs": [],
   "source": [
    "def crop_landsat_image(item, bounding_box):\n",
    "    \"\"\"\n",
    "    Given a STAC item from Landsat and a bounding box tuple in the format\n",
    "    (minx, miny, maxx, maxy), return a cropped portion of the item's visual\n",
    "    imagery in the bounding box.\n",
    "\n",
    "    Returns the image as a numpy array with dimensions (color band, height, width)\n",
    "    \"\"\"\n",
    "    (minx, miny, maxx, maxy) = bounding_box\n",
    "\n",
    "    image = odc.stac.stac_load(\n",
    "        [pc.sign(item)],\n",
    "        bands=[\"red\", \"green\", \"blue\"],\n",
    "        bbox=[minx, miny, maxx, maxy]\n",
    "    ).isel(time=0)\n",
    "    \n",
    "    image_array = image[[\"red\", \"green\", \"blue\"]].to_array().to_numpy()\n",
    "\n",
    "    # normalize to 0 - 255 values\n",
    "    image_array = cv2.normalize(image_array, None, 0, 255, cv2.NORM_MINMAX, dtype=cv2.CV_8U)\n",
    "\n",
    "    return image_array"
   ]
  },
  {
   "cell_type": "code",
   "execution_count": 40,
   "metadata": {},
   "outputs": [
    {
     "data": {
      "text/plain": [
       "array([[183, 182, 181, ...,   0,   0,   0],\n",
       "       [187, 187, 178, ...,   0,   0,   0],\n",
       "       [156, 179, 186, ...,   0,   0,   0],\n",
       "       ...,\n",
       "       [  0,   0,   0, ...,   0,   0,   0],\n",
       "       [  0,   0,   0, ...,   0,   0,   0],\n",
       "       [  0,   0,   0, ...,   0,   0,   0]], dtype=uint8)"
      ]
     },
     "execution_count": 40,
     "metadata": {},
     "output_type": "execute_result"
    }
   ],
   "source": [
    "item = landsat_item.item_obj\n",
    "\n",
    "\n",
    "# we'll use the same cropped area as above\n",
    "landsat_image_array = crop_landsat_image(item, bbox)\n",
    "landsat_image_array[0]"
   ]
  },
  {
   "cell_type": "code",
   "execution_count": 41,
   "metadata": {},
   "outputs": [
    {
     "data": {
      "text/plain": [
       "<matplotlib.image.AxesImage at 0x2a1c77af0>"
      ]
     },
     "execution_count": 41,
     "metadata": {},
     "output_type": "execute_result"
    },
    {
     "data": {
      "image/png": "[encoded data removed]",
      "text/plain": [
       "<Figure size 640x480 with 1 Axes>"
      ]
     },
     "metadata": {},
     "output_type": "display_data"
    }
   ],
   "source": [
    "plt.imshow(np.transpose(landsat_image_array, axes=[1, 2, 0]))"
   ]
  },
  {
   "attachments": {},
   "cell_type": "markdown",
   "metadata": {},
   "source": [
    "### Convert imagery to features"
   ]
  },
  {
   "cell_type": "code",
   "execution_count": 246,
   "metadata": {},
   "outputs": [
    {
     "data": {
      "text/plain": [
       "(-95.19763046613113, 43.477989634959584, -95.18526953386888, 43.48699036148455)"
      ]
     },
     "execution_count": 246,
     "metadata": {},
     "output_type": "execute_result"
    }
   ],
   "source": [
    "# define a small area to crop around\n",
    "# crop to 400 meters squared around the sampling point\n",
    "sminx, sminy, smaxx, smaxy = get_bounding_box(\n",
    "    example_row.latitude,\n",
    "    example_row.longitude,\n",
    "    meter_buffer=500\n",
    ")\n",
    "sminx, sminy, smaxx, smaxy"
   ]
  },
  {
   "cell_type": "code",
   "execution_count": 247,
   "metadata": {},
   "outputs": [
    {
     "data": {
      "text/plain": [
       "<matplotlib.image.AxesImage at 0x3824539a0>"
      ]
     },
     "execution_count": 247,
     "metadata": {},
     "output_type": "execute_result"
    },
    {
     "data": {
      "image/png": "[encoded data removed]",
      "text/plain": [
       "<Figure size 640x480 with 1 Axes>"
      ]
     },
     "metadata": {},
     "output_type": "display_data"
    }
   ],
   "source": [
    "sbbox = (sminx, sminy, smaxx, smaxy)\n",
    "feature_image_array = crop_sentinel_image(best_item.item_obj, bounding_box=sbbox)\n",
    "#feature_image_array = crop_landsat_image(landsat_item.item_obj, bounding_box=sbbox)\n",
    "\n",
    "plt.imshow(np.transpose(feature_image_array, axes=[1, 2, 0]))"
   ]
  },
  {
   "cell_type": "code",
   "execution_count": 47,
   "metadata": {},
   "outputs": [
    {
     "data": {
      "text/plain": [
       "(numpy.ndarray, (3, 21, 21))"
      ]
     },
     "execution_count": 47,
     "metadata": {},
     "output_type": "execute_result"
    }
   ],
   "source": [
    "type(feature_image_array), feature_image_array.shape"
   ]
  },
  {
   "cell_type": "code",
   "execution_count": 48,
   "metadata": {},
   "outputs": [
    {
     "data": {
      "text/plain": [
       "[64.1156462585034, 71.21541950113378, 42.44897959183673, 8.0, 26.0, 9.0]"
      ]
     },
     "execution_count": 48,
     "metadata": {},
     "output_type": "execute_result"
    }
   ],
   "source": [
    "# take the average over the second and third dimensions\n",
    "image_color_averages = feature_image_array.mean(axis=(1, 2)).tolist()\n",
    "\n",
    "# also take the median\n",
    "image_color_medians = np.median(feature_image_array, axis=(1, 2)).tolist()\n",
    "\n",
    "# concatenate the two lists\n",
    "image_features = image_color_averages + image_color_medians\n",
    "image_features"
   ]
  },
  {
   "attachments": {},
   "cell_type": "markdown",
   "metadata": {},
   "source": [
    "## Refactor and Run"
   ]
  },
  {
   "cell_type": "code",
   "execution_count": 49,
   "metadata": {},
   "outputs": [],
   "source": [
    "# Refactor our process from above into functions\n",
    "def select_best_item(items, date, latitude, longitude):\n",
    "    \"\"\"\n",
    "    Select the best satellite item given a sample's date, latitude, and longitude.\n",
    "    If any Sentinel-2 imagery is available, returns the closest sentinel-2 image by\n",
    "    time. Otherwise, returns the closest Landsat imagery.\n",
    "\n",
    "    Returns a tuple of (STAC item, item platform name, item date)\n",
    "    \"\"\"\n",
    "    # get item details\n",
    "    item_details = pd.DataFrame(\n",
    "        [\n",
    "            {\n",
    "                \"datetime\": item.datetime.strftime(\"%Y-%m-%d\"),\n",
    "                \"platform\": item.properties[\"platform\"],\n",
    "                \"min_long\": item.bbox[0],\n",
    "                \"max_long\": item.bbox[2],\n",
    "                \"min_lat\": item.bbox[1],\n",
    "                \"max_lat\": item.bbox[3],\n",
    "                \"item_obj\": item,\n",
    "            }\n",
    "            for item in items\n",
    "        ]\n",
    "    )\n",
    "\n",
    "    # filter to items that contain the point location, or return None if none contain the point\n",
    "    item_details[\"contains_sample_point\"] = (\n",
    "        (item_details.min_lat < latitude)\n",
    "        & (item_details.max_lat > latitude)\n",
    "        & (item_details.min_long < longitude)\n",
    "        & (item_details.max_long > longitude)\n",
    "    )\n",
    "    item_details = item_details[item_details[\"contains_sample_point\"] == True]\n",
    "    \n",
    "    item_details = item_details[item_details.platform.str.contains('|'.join(['landsat-8', 'landsat-9', 'Sentinel']))]\n",
    "    \n",
    "    if len(item_details) == 0:\n",
    "        return (np.nan, np.nan, np.nan)\n",
    "\n",
    "    # add time difference between each item and the sample\n",
    "    item_details[\"time_diff\"] = pd.to_datetime(date) - pd.to_datetime(\n",
    "        item_details[\"datetime\"]\n",
    "    )\n",
    "\n",
    "    # if we have sentinel-2, filter to sentinel-2 images only\n",
    "    item_details[\"sentinel\"] = item_details.platform.str.lower().str.contains(\n",
    "        \"sentinel\"\n",
    "    )\n",
    "    if item_details[\"sentinel\"].any():\n",
    "        item_details = item_details[item_details[\"sentinel\"] == True]\n",
    "\n",
    "    # return the closest imagery by time\n",
    "    best_item = item_details.sort_values(by=\"time_diff\", ascending=True).iloc[0]\n",
    "\n",
    "    return (best_item[\"item_obj\"], best_item[\"platform\"], best_item[\"datetime\"])"
   ]
  },
  {
   "cell_type": "code",
   "execution_count": 50,
   "metadata": {},
   "outputs": [],
   "source": [
    "def image_to_features(image_array):\n",
    "    \"\"\"\n",
    "    Convert an image array of the form (color band, height, width) to a\n",
    "    1-dimensional list of features. Returns a list where the first three\n",
    "    values are the averages of each color band, and the second three\n",
    "    values are the medians of each color band.\n",
    "    \"\"\"\n",
    "    averages = image_array.mean(axis=(1, 2)).tolist()\n",
    "    medians = np.median(image_array, axis=(1, 2)).tolist()\n",
    "\n",
    "    return averages + medians"
   ]
  },
  {
   "cell_type": "code",
   "execution_count": 51,
   "metadata": {},
   "outputs": [],
   "source": [
    "BENCHMARK_DATA_DIR = DATA_DIR / \"benchmark\"\n",
    "\n",
    "# save image arrays in case we want to generate more features\n",
    "IMAGE_ARRAY_DIR = BENCHMARK_DATA_DIR / \"image_arrays\"\n",
    "IMAGE_ARRAY_DIR.mkdir(exist_ok=True, parents=True)"
   ]
  },
  {
   "cell_type": "code",
   "execution_count": 52,
   "metadata": {},
   "outputs": [
    {
     "data": {
      "text/plain": [
       "test     6510\n",
       "train    2500\n",
       "Name: split, dtype: int64"
      ]
     },
     "execution_count": 52,
     "metadata": {},
     "output_type": "execute_result"
    }
   ],
   "source": [
    "# take a random subset of the training data for the benchmark\n",
    "train_subset = metadata[metadata[\"split\"] == \"train\"].sample(n=2500, random_state=2)\n",
    "\n",
    "# combine train subset with all test data\n",
    "metadata_subset = pd.concat([train_subset, metadata[metadata[\"split\"] == \"test\"]])\n",
    "metadata_subset.split.value_counts(dropna=False)"
   ]
  },
  {
   "cell_type": "code",
   "execution_count": 53,
   "metadata": {},
   "outputs": [
    {
     "name": "stderr",
     "output_type": "stream",
     "text": [
      "100%|██████████| 9010/9010 [03:54<00:00, 38.37it/s]  \n"
     ]
    }
   ],
   "source": [
    "# save outputs in dictionaries\n",
    "selected_items = {}\n",
    "features_dict = {}\n",
    "errored_ids = []\n",
    "\n",
    "for row in tqdm(metadata_subset.itertuples(), total=len(metadata_subset)):\n",
    "    pass\n",
    "    # check if we've already saved the selected image array\n",
    "    image_array_pth = IMAGE_ARRAY_DIR / f\"{row.uid}.npy\"\n",
    "\n",
    "    if image_array_pth.exists():\n",
    "        with open(image_array_pth, \"rb\") as f:\n",
    "            image_array = np.load(f)\n",
    "\n",
    "        # convert image to 1-dimensional features\n",
    "        image_features = image_to_features(image_array)\n",
    "        features_dict[row.uid] = image_features\n",
    "\n",
    "    # search and load the image array if not\n",
    "    else:\n",
    "        try:\n",
    "            ## QUERY STAC API\n",
    "            # get query ranges for location and date\n",
    "            search_bbox = get_bounding_box(\n",
    "                row.latitude, row.longitude, meter_buffer=50000\n",
    "            )\n",
    "            date_range = get_date_range(row.date, time_buffer_days=15)\n",
    "\n",
    "            # search the planetary computer\n",
    "            search = catalog.search(\n",
    "                collections=[\"sentinel-2-l2a\", \"landsat-c2-l2\"],\n",
    "                bbox=search_bbox,\n",
    "                datetime=date_range,\n",
    "            )\n",
    "            items = [item for item in search.get_all_items()]\n",
    "\n",
    "            ## GET BEST IMAGE\n",
    "            if len(items) == 0:\n",
    "                pass\n",
    "            else:\n",
    "                best_item, item_platform, item_date = select_best_item(\n",
    "                    items, row.date, row.latitude, row.longitude\n",
    "                )\n",
    "                # add to dictionary tracking best items\n",
    "                selected_items[row.uid] = {\n",
    "                    \"item_object\": best_item,\n",
    "                    \"item_platform\": item_platform,\n",
    "                    \"item_date\": item_date,\n",
    "                }\n",
    "\n",
    "            ## CONVERT TO FEATURES\n",
    "            # get small bbox just for features\n",
    "            feature_bbox = get_bounding_box(\n",
    "                row.latitude, row.longitude, meter_buffer=100\n",
    "            )\n",
    "\n",
    "            # crop the image\n",
    "            if \"sentinel\" in item_platform.lower():\n",
    "                image_array = crop_sentinel_image(best_item, feature_bbox)\n",
    "            else:\n",
    "                image_array = crop_landsat_image(best_item, feature_bbox)\n",
    "\n",
    "            # save image array so we don't have to rerun\n",
    "            with open(image_array_pth, \"wb\") as f:\n",
    "                np.save(f, image_array)\n",
    "\n",
    "            # convert image to 1-dimensional features\n",
    "            image_features = image_to_features(image_array)\n",
    "            features_dict[row.uid] = image_features\n",
    "\n",
    "        # keep track of any that ran into errors without interrupting the process\n",
    "        except:\n",
    "            errored_ids.append(row.uid)"
   ]
  },
  {
   "cell_type": "code",
   "execution_count": 54,
   "metadata": {},
   "outputs": [
    {
     "name": "stdout",
     "output_type": "stream",
     "text": [
      "Could not pull satellite imagery for 226 samples\n"
     ]
    }
   ],
   "source": [
    "# see how many ran into errors\n",
    "print(f\"Could not pull satellite imagery for {len(errored_ids)} samples\")"
   ]
  },
  {
   "cell_type": "code",
   "execution_count": 55,
   "metadata": {},
   "outputs": [
    {
     "data": {
      "text/html": [
       "<div>\n",
       "<style scoped>\n",
       "    .dataframe tbody tr th:only-of-type {\n",
       "        vertical-align: middle;\n",
       "    }\n",
       "\n",
       "    .dataframe tbody tr th {\n",
       "        vertical-align: top;\n",
       "    }\n",
       "\n",
       "    .dataframe thead th {\n",
       "        text-align: right;\n",
       "    }\n",
       "</style>\n",
       "<table border=\"1\" class=\"dataframe\">\n",
       "  <thead>\n",
       "    <tr style=\"text-align: right;\">\n",
       "      <th></th>\n",
       "      <th>red_average</th>\n",
       "      <th>green_average</th>\n",
       "      <th>blue_average</th>\n",
       "      <th>red_median</th>\n",
       "      <th>green_median</th>\n",
       "      <th>blue_median</th>\n",
       "    </tr>\n",
       "  </thead>\n",
       "  <tbody>\n",
       "    <tr>\n",
       "      <th>umac</th>\n",
       "      <td>26.305195</td>\n",
       "      <td>44.173160</td>\n",
       "      <td>28.357143</td>\n",
       "      <td>25.0</td>\n",
       "      <td>34.0</td>\n",
       "      <td>27.0</td>\n",
       "    </tr>\n",
       "    <tr>\n",
       "      <th>egox</th>\n",
       "      <td>59.125000</td>\n",
       "      <td>108.875000</td>\n",
       "      <td>26.718750</td>\n",
       "      <td>22.0</td>\n",
       "      <td>90.5</td>\n",
       "      <td>11.0</td>\n",
       "    </tr>\n",
       "    <tr>\n",
       "      <th>havx</th>\n",
       "      <td>68.640625</td>\n",
       "      <td>131.281250</td>\n",
       "      <td>30.859375</td>\n",
       "      <td>55.0</td>\n",
       "      <td>123.0</td>\n",
       "      <td>25.5</td>\n",
       "    </tr>\n",
       "    <tr>\n",
       "      <th>laoq</th>\n",
       "      <td>168.375000</td>\n",
       "      <td>206.484375</td>\n",
       "      <td>26.218750</td>\n",
       "      <td>165.0</td>\n",
       "      <td>205.5</td>\n",
       "      <td>25.0</td>\n",
       "    </tr>\n",
       "    <tr>\n",
       "      <th>ttsk</th>\n",
       "      <td>24.071429</td>\n",
       "      <td>41.266234</td>\n",
       "      <td>21.489177</td>\n",
       "      <td>23.0</td>\n",
       "      <td>40.0</td>\n",
       "      <td>21.0</td>\n",
       "    </tr>\n",
       "  </tbody>\n",
       "</table>\n",
       "</div>"
      ],
      "text/plain": [
       "      red_average  green_average  blue_average  red_median  green_median  \\\n",
       "umac    26.305195      44.173160     28.357143        25.0          34.0   \n",
       "egox    59.125000     108.875000     26.718750        22.0          90.5   \n",
       "havx    68.640625     131.281250     30.859375        55.0         123.0   \n",
       "laoq   168.375000     206.484375     26.218750       165.0         205.5   \n",
       "ttsk    24.071429      41.266234     21.489177        23.0          40.0   \n",
       "\n",
       "      blue_median  \n",
       "umac         27.0  \n",
       "egox         11.0  \n",
       "havx         25.5  \n",
       "laoq         25.0  \n",
       "ttsk         21.0  "
      ]
     },
     "execution_count": 55,
     "metadata": {},
     "output_type": "execute_result"
    }
   ],
   "source": [
    "# bring features into a dataframe\n",
    "image_features = pd.DataFrame(features_dict).T\n",
    "image_features.columns = [\n",
    "    \"red_average\",\n",
    "    \"green_average\",\n",
    "    \"blue_average\",\n",
    "    \"red_median\",\n",
    "    \"green_median\",\n",
    "    \"blue_median\",\n",
    "]\n",
    "image_features.head()"
   ]
  },
  {
   "cell_type": "code",
   "execution_count": 56,
   "metadata": {},
   "outputs": [],
   "source": [
    "# save out our features!\n",
    "image_features.to_csv(BENCHMARK_DATA_DIR / \"image_features.csv\", index=True)"
   ]
  },
  {
   "cell_type": "code",
   "execution_count": 57,
   "metadata": {},
   "outputs": [
    {
     "data": {
      "text/html": [
       "<div>\n",
       "<style scoped>\n",
       "    .dataframe tbody tr th:only-of-type {\n",
       "        vertical-align: middle;\n",
       "    }\n",
       "\n",
       "    .dataframe tbody tr th {\n",
       "        vertical-align: top;\n",
       "    }\n",
       "\n",
       "    .dataframe thead th {\n",
       "        text-align: right;\n",
       "    }\n",
       "</style>\n",
       "<table border=\"1\" class=\"dataframe\">\n",
       "  <thead>\n",
       "    <tr style=\"text-align: right;\">\n",
       "      <th></th>\n",
       "      <th>red_average</th>\n",
       "      <th>green_average</th>\n",
       "      <th>blue_average</th>\n",
       "      <th>red_median</th>\n",
       "      <th>green_median</th>\n",
       "      <th>blue_median</th>\n",
       "    </tr>\n",
       "  </thead>\n",
       "  <tbody>\n",
       "    <tr>\n",
       "      <th>umac</th>\n",
       "      <td>26.305195</td>\n",
       "      <td>44.173160</td>\n",
       "      <td>28.357143</td>\n",
       "      <td>25.0</td>\n",
       "      <td>34.0</td>\n",
       "      <td>27.0</td>\n",
       "    </tr>\n",
       "    <tr>\n",
       "      <th>egox</th>\n",
       "      <td>59.125000</td>\n",
       "      <td>108.875000</td>\n",
       "      <td>26.718750</td>\n",
       "      <td>22.0</td>\n",
       "      <td>90.5</td>\n",
       "      <td>11.0</td>\n",
       "    </tr>\n",
       "    <tr>\n",
       "      <th>havx</th>\n",
       "      <td>68.640625</td>\n",
       "      <td>131.281250</td>\n",
       "      <td>30.859375</td>\n",
       "      <td>55.0</td>\n",
       "      <td>123.0</td>\n",
       "      <td>25.5</td>\n",
       "    </tr>\n",
       "    <tr>\n",
       "      <th>laoq</th>\n",
       "      <td>168.375000</td>\n",
       "      <td>206.484375</td>\n",
       "      <td>26.218750</td>\n",
       "      <td>165.0</td>\n",
       "      <td>205.5</td>\n",
       "      <td>25.0</td>\n",
       "    </tr>\n",
       "    <tr>\n",
       "      <th>ttsk</th>\n",
       "      <td>24.071429</td>\n",
       "      <td>41.266234</td>\n",
       "      <td>21.489177</td>\n",
       "      <td>23.0</td>\n",
       "      <td>40.0</td>\n",
       "      <td>21.0</td>\n",
       "    </tr>\n",
       "  </tbody>\n",
       "</table>\n",
       "</div>"
      ],
      "text/plain": [
       "      red_average  green_average  blue_average  red_median  green_median  \\\n",
       "umac    26.305195      44.173160     28.357143        25.0          34.0   \n",
       "egox    59.125000     108.875000     26.718750        22.0          90.5   \n",
       "havx    68.640625     131.281250     30.859375        55.0         123.0   \n",
       "laoq   168.375000     206.484375     26.218750       165.0         205.5   \n",
       "ttsk    24.071429      41.266234     21.489177        23.0          40.0   \n",
       "\n",
       "      blue_median  \n",
       "umac         27.0  \n",
       "egox         11.0  \n",
       "havx         25.5  \n",
       "laoq         25.0  \n",
       "ttsk         21.0  "
      ]
     },
     "execution_count": 57,
     "metadata": {},
     "output_type": "execute_result"
    }
   ],
   "source": [
    "# bring features into a dataframe\n",
    "image_features = pd.DataFrame(features_dict).T\n",
    "image_features.columns = [\n",
    "    \"red_average\",\n",
    "    \"green_average\",\n",
    "    \"blue_average\",\n",
    "    \"red_median\",\n",
    "    \"green_median\",\n",
    "    \"blue_median\",\n",
    "]\n",
    "image_features.head()"
   ]
  },
  {
   "cell_type": "code",
   "execution_count": 58,
   "metadata": {},
   "outputs": [],
   "source": [
    "# save out our features!\n",
    "image_features.to_csv(BENCHMARK_DATA_DIR / \"image_features.csv\", index=True)"
   ]
  },
  {
   "attachments": {},
   "cell_type": "markdown",
   "metadata": {},
   "source": [
    "## Build GBM Model"
   ]
  },
  {
   "cell_type": "code",
   "execution_count": 59,
   "metadata": {},
   "outputs": [
    {
     "data": {
      "text/html": [
       "<div>\n",
       "<style scoped>\n",
       "    .dataframe tbody tr th:only-of-type {\n",
       "        vertical-align: middle;\n",
       "    }\n",
       "\n",
       "    .dataframe tbody tr th {\n",
       "        vertical-align: top;\n",
       "    }\n",
       "\n",
       "    .dataframe thead th {\n",
       "        text-align: right;\n",
       "    }\n",
       "</style>\n",
       "<table border=\"1\" class=\"dataframe\">\n",
       "  <thead>\n",
       "    <tr style=\"text-align: right;\">\n",
       "      <th></th>\n",
       "      <th>uid</th>\n",
       "      <th>region</th>\n",
       "      <th>severity</th>\n",
       "      <th>density</th>\n",
       "      <th>red_average</th>\n",
       "      <th>green_average</th>\n",
       "      <th>blue_average</th>\n",
       "      <th>red_median</th>\n",
       "      <th>green_median</th>\n",
       "      <th>blue_median</th>\n",
       "      <th>split</th>\n",
       "    </tr>\n",
       "  </thead>\n",
       "  <tbody>\n",
       "    <tr>\n",
       "      <th>4</th>\n",
       "      <td>aafl</td>\n",
       "      <td>midwest</td>\n",
       "      <td>4</td>\n",
       "      <td>2.017313e+06</td>\n",
       "      <td>95.807256</td>\n",
       "      <td>102.832200</td>\n",
       "      <td>74.993197</td>\n",
       "      <td>53.0</td>\n",
       "      <td>71.0</td>\n",
       "      <td>46.0</td>\n",
       "      <td>train</td>\n",
       "    </tr>\n",
       "    <tr>\n",
       "      <th>5</th>\n",
       "      <td>aafp</td>\n",
       "      <td>south</td>\n",
       "      <td>1</td>\n",
       "      <td>1.594000e+03</td>\n",
       "      <td>18.410431</td>\n",
       "      <td>25.294785</td>\n",
       "      <td>12.448980</td>\n",
       "      <td>18.0</td>\n",
       "      <td>24.0</td>\n",
       "      <td>12.0</td>\n",
       "      <td>train</td>\n",
       "    </tr>\n",
       "    <tr>\n",
       "      <th>20</th>\n",
       "      <td>aarq</td>\n",
       "      <td>northeast</td>\n",
       "      <td>1</td>\n",
       "      <td>1.013300e+04</td>\n",
       "      <td>45.984127</td>\n",
       "      <td>37.170068</td>\n",
       "      <td>15.392290</td>\n",
       "      <td>27.0</td>\n",
       "      <td>27.0</td>\n",
       "      <td>8.0</td>\n",
       "      <td>train</td>\n",
       "    </tr>\n",
       "    <tr>\n",
       "      <th>31</th>\n",
       "      <td>aben</td>\n",
       "      <td>south</td>\n",
       "      <td>1</td>\n",
       "      <td>9.730000e+03</td>\n",
       "      <td>127.000000</td>\n",
       "      <td>151.041126</td>\n",
       "      <td>147.158009</td>\n",
       "      <td>105.0</td>\n",
       "      <td>128.0</td>\n",
       "      <td>116.0</td>\n",
       "      <td>train</td>\n",
       "    </tr>\n",
       "    <tr>\n",
       "      <th>37</th>\n",
       "      <td>aboc</td>\n",
       "      <td>midwest</td>\n",
       "      <td>1</td>\n",
       "      <td>3.582413e+02</td>\n",
       "      <td>255.000000</td>\n",
       "      <td>255.000000</td>\n",
       "      <td>255.000000</td>\n",
       "      <td>255.0</td>\n",
       "      <td>255.0</td>\n",
       "      <td>255.0</td>\n",
       "      <td>validation</td>\n",
       "    </tr>\n",
       "  </tbody>\n",
       "</table>\n",
       "</div>"
      ],
      "text/plain": [
       "     uid     region  severity       density  red_average  green_average  \\\n",
       "4   aafl    midwest         4  2.017313e+06    95.807256     102.832200   \n",
       "5   aafp      south         1  1.594000e+03    18.410431      25.294785   \n",
       "20  aarq  northeast         1  1.013300e+04    45.984127      37.170068   \n",
       "31  aben      south         1  9.730000e+03   127.000000     151.041126   \n",
       "37  aboc    midwest         1  3.582413e+02   255.000000     255.000000   \n",
       "\n",
       "    blue_average  red_median  green_median  blue_median       split  \n",
       "4      74.993197        53.0          71.0         46.0       train  \n",
       "5      12.448980        18.0          24.0         12.0       train  \n",
       "20     15.392290        27.0          27.0          8.0       train  \n",
       "31    147.158009       105.0         128.0        116.0       train  \n",
       "37    255.000000       255.0         255.0        255.0  validation  "
      ]
     },
     "execution_count": 59,
     "metadata": {},
     "output_type": "execute_result"
    }
   ],
   "source": [
    "# bring together train labels and features into one dataframe\n",
    "# this ensures the features array and labels array will be in same order\n",
    "train_data = train_labels.merge(\n",
    "    image_features, how=\"inner\", left_on=\"uid\", right_index=True, validate=\"1:1\"\n",
    ")\n",
    "\n",
    "# split into train and validation\n",
    "rng = np.random.RandomState(30)\n",
    "train_data[\"split\"] = rng.choice(\n",
    "    [\"train\", \"validation\"], size=len(train_data), replace=True, p=[0.67, 0.33]\n",
    ")\n",
    "\n",
    "train_data.head()"
   ]
  },
  {
   "cell_type": "code",
   "execution_count": 60,
   "metadata": {},
   "outputs": [
    {
     "data": {
      "text/plain": [
       "((1604, 6), (846, 6), (1604,), (846,))"
      ]
     },
     "execution_count": 60,
     "metadata": {},
     "output_type": "execute_result"
    }
   ],
   "source": [
    "# separate features and labels, and train and validation\n",
    "feature_cols = [\n",
    "    \"red_average\",\n",
    "    \"green_average\",\n",
    "    \"blue_average\",\n",
    "    \"red_median\",\n",
    "    \"green_median\",\n",
    "    \"blue_median\",\n",
    "]\n",
    "target_col = \"severity\"\n",
    "\n",
    "val_set_mask = train_data.split == \"validation\"\n",
    "X_train = train_data.loc[~val_set_mask, feature_cols].values\n",
    "y_train = train_data.loc[~val_set_mask, target_col]\n",
    "X_val = train_data.loc[val_set_mask, feature_cols].values\n",
    "y_val = train_data.loc[val_set_mask, target_col]\n",
    "\n",
    "# flatten label data into 1-d arrays\n",
    "y_train = y_train.values.flatten()\n",
    "y_val = y_val.values.flatten()\n",
    "\n",
    "X_train.shape, X_val.shape, y_train.shape, y_val.shape"
   ]
  },
  {
   "cell_type": "code",
   "execution_count": 61,
   "metadata": {},
   "outputs": [
    {
     "name": "stdout",
     "output_type": "stream",
     "text": [
      "X_train[0]: [ 95.80725624 102.83219955  74.99319728  53.          71.\n",
      "  46.        ]\n",
      "y_train[:10]: [4 1 1 1 4 1 5 3 1 1]\n"
     ]
    }
   ],
   "source": [
    "# see an example of what the data looks like\n",
    "print(\"X_train[0]:\", X_train[0])\n",
    "print(\"y_train[:10]:\", y_train[:10])"
   ]
  },
  {
   "cell_type": "code",
   "execution_count": 62,
   "metadata": {},
   "outputs": [],
   "source": [
    "# save out features\n",
    "x_train_pth = BENCHMARK_DATA_DIR / \"x_train.npy\"\n",
    "x_train_pth.parent.mkdir(exist_ok=True, parents=True)\n",
    "\n",
    "with open(x_train_pth, \"wb\") as f:\n",
    "    np.save(f, X_train)\n",
    "\n",
    "# save out labels\n",
    "y_train_pth = BENCHMARK_DATA_DIR / \"y_train.npy\"\n",
    "\n",
    "with open(y_train_pth, \"wb\") as f:\n",
    "    np.save(f, y_train)"
   ]
  },
  {
   "cell_type": "code",
   "execution_count": 63,
   "metadata": {},
   "outputs": [
    {
     "name": "stdout",
     "output_type": "stream",
     "text": [
      "Overwriting train_gbm_model.py\n"
     ]
    }
   ],
   "source": [
    "%%writefile train_gbm_model.py\n",
    "import lightgbm as lgb\n",
    "\n",
    "import joblib\n",
    "import numpy as np\n",
    "from pathlib import Path\n",
    "from loguru import logger\n",
    "import typer\n",
    "\n",
    "DATA_DIR = Path.cwd() / \"data/benchmark\"\n",
    "\n",
    "\n",
    "def main(\n",
    "    features_path=DATA_DIR / \"x_train.npy\",\n",
    "    labels_path=DATA_DIR / \"y_train.npy\",\n",
    "    model_save_path=DATA_DIR / \"lgb_classifier.txt\",\n",
    "):\n",
    "    \"\"\"\n",
    "    Train a LightGBM model based on training features in features_path and\n",
    "    training labels in labels_path. Save our the trained model to model_save_path\n",
    "    \"\"\"\n",
    "\n",
    "    # load saved features and labels\n",
    "    with open(features_path, \"rb\") as f:\n",
    "        X_train = np.load(f)\n",
    "    with open(labels_path, \"rb\") as f:\n",
    "        y_train = np.load(f)\n",
    "\n",
    "    logger.info(f\"Loaded training features of shape {X_train.shape} from {features_path}\")\n",
    "    logger.info(f\"Loading training labels of shape {y_train.shape} from {labels_path}\")\n",
    "\n",
    "    # instantiate tree model\n",
    "    model = lgb.LGBMClassifier(random_state=10)\n",
    "\n",
    "    # fit model\n",
    "    logger.info(\"Fitting LGBM model\")\n",
    "    model.fit(X_train, y_train)\n",
    "    print(model)\n",
    "\n",
    "    # save out model weights\n",
    "    joblib.dump(model, str(model_save_path))\n",
    "    logger.success(f\"Model weights saved to {model_save_path}\")\n",
    "\n",
    "\n",
    "if __name__ == \"__main__\":\n",
    "    typer.run(main)"
   ]
  },
  {
   "cell_type": "code",
   "execution_count": 64,
   "metadata": {},
   "outputs": [
    {
     "name": "stdout",
     "output_type": "stream",
     "text": [
      "LGBMClassifier(random_state=10)\n"
     ]
    },
    {
     "name": "stderr",
     "output_type": "stream",
     "text": [
      "\u001b[32m2023-02-10 17:46:35.683\u001b[0m | \u001b[1mINFO    \u001b[0m | \u001b[36m__main__\u001b[0m:\u001b[36mmain\u001b[0m:\u001b[36m28\u001b[0m - \u001b[1mLoaded training features of shape (1604, 6) from c:\\Users\\Keenan Samway\\Documents\\GitHub\\Algal-Bloom-Detection\\data\\benchmark\\x_train.npy\u001b[0m\n",
      "\u001b[32m2023-02-10 17:46:35.683\u001b[0m | \u001b[1mINFO    \u001b[0m | \u001b[36m__main__\u001b[0m:\u001b[36mmain\u001b[0m:\u001b[36m29\u001b[0m - \u001b[1mLoading training labels of shape (1604,) from c:\\Users\\Keenan Samway\\Documents\\GitHub\\Algal-Bloom-Detection\\data\\benchmark\\y_train.npy\u001b[0m\n",
      "\u001b[32m2023-02-10 17:46:35.683\u001b[0m | \u001b[1mINFO    \u001b[0m | \u001b[36m__main__\u001b[0m:\u001b[36mmain\u001b[0m:\u001b[36m35\u001b[0m - \u001b[1mFitting LGBM model\u001b[0m\n",
      "\u001b[32m2023-02-10 17:46:36.016\u001b[0m | \u001b[32m\u001b[1mSUCCESS \u001b[0m | \u001b[36m__main__\u001b[0m:\u001b[36mmain\u001b[0m:\u001b[36m41\u001b[0m - \u001b[32m\u001b[1mModel weights saved to c:\\Users\\Keenan Samway\\Documents\\GitHub\\Algal-Bloom-Detection\\data\\benchmark\\lgb_classifier.txt\u001b[0m\n"
     ]
    }
   ],
   "source": [
    "!python train_gbm_model.py"
   ]
  },
  {
   "cell_type": "code",
   "execution_count": 65,
   "metadata": {},
   "outputs": [],
   "source": [
    "# save out validation features\n",
    "x_val_pth = BENCHMARK_DATA_DIR / \"x_val.npy\"\n",
    "x_val_pth.parent.mkdir(exist_ok=True, parents=True)\n",
    "\n",
    "with open(x_val_pth, \"wb\") as f:\n",
    "    np.save(f, X_val)\n",
    "\n",
    "# save out validation labels\n",
    "y_val_pth = BENCHMARK_DATA_DIR / \"y_val.npy\"\n",
    "\n",
    "with open(y_val_pth, \"wb\") as f:\n",
    "    np.save(f, y_val)"
   ]
  },
  {
   "cell_type": "code",
   "execution_count": 66,
   "metadata": {},
   "outputs": [
    {
     "name": "stdout",
     "output_type": "stream",
     "text": [
      "Overwriting predict_gbm_model.py\n"
     ]
    }
   ],
   "source": [
    "%%writefile predict_gbm_model.py\n",
    "import lightgbm as lgb\n",
    "\n",
    "import joblib\n",
    "from loguru import logger\n",
    "import numpy as np\n",
    "from pathlib import Path\n",
    "import typer\n",
    "\n",
    "DATA_DIR = Path.cwd() / \"data/benchmark\"\n",
    "\n",
    "\n",
    "def main(\n",
    "    model_weights_path=DATA_DIR / \"lgb_classifier.txt\",\n",
    "    features_path=DATA_DIR / \"x_val.npy\",\n",
    "    preds_save_path=DATA_DIR / \"val_preds.npy\",\n",
    "):\n",
    "    \"\"\"\n",
    "    Generate predictions with a LightGBM model using weights saved at model_weights_path\n",
    "    and features saved at features_path. Save out predictions to preds_save_path.\n",
    "    \"\"\"\n",
    "    # load model weights\n",
    "    lgb_model = joblib.load(model_weights_path)\n",
    "    logger.info(f\"Loaded model {lgb_model} from {model_weights_path}\")\n",
    "\n",
    "    # load the features\n",
    "    with open(features_path, \"rb\") as f:\n",
    "        X_val = np.load(f)\n",
    "    logger.info(f\"Loaded features of shape {X_val.shape} from {features_path}\")\n",
    "\n",
    "    # generate predictions\n",
    "    preds = lgb_model.predict(X_val)\n",
    "\n",
    "    # save out predictions\n",
    "    with open(preds_save_path, \"wb\") as f:\n",
    "        np.save(f, preds)\n",
    "    logger.success(f\"Predictions saved to {preds_save_path}\")\n",
    "\n",
    "\n",
    "if __name__ == \"__main__\":\n",
    "    typer.run(main)"
   ]
  },
  {
   "cell_type": "code",
   "execution_count": 67,
   "metadata": {},
   "outputs": [
    {
     "name": "stderr",
     "output_type": "stream",
     "text": [
      "\u001b[32m2023-02-10 17:46:45.009\u001b[0m | \u001b[1mINFO    \u001b[0m | \u001b[36m__main__\u001b[0m:\u001b[36mmain\u001b[0m:\u001b[36m23\u001b[0m - \u001b[1mLoaded model LGBMClassifier(random_state=10) from c:\\Users\\Keenan Samway\\Documents\\GitHub\\Algal-Bloom-Detection\\data\\benchmark\\lgb_classifier.txt\u001b[0m\n",
      "\u001b[32m2023-02-10 17:46:45.016\u001b[0m | \u001b[1mINFO    \u001b[0m | \u001b[36m__main__\u001b[0m:\u001b[36mmain\u001b[0m:\u001b[36m28\u001b[0m - \u001b[1mLoaded features of shape (846, 6) from c:\\Users\\Keenan Samway\\Documents\\GitHub\\Algal-Bloom-Detection\\data\\benchmark\\x_val.npy\u001b[0m\n",
      "\u001b[32m2023-02-10 17:46:45.019\u001b[0m | \u001b[32m\u001b[1mSUCCESS \u001b[0m | \u001b[36m__main__\u001b[0m:\u001b[36mmain\u001b[0m:\u001b[36m36\u001b[0m - \u001b[32m\u001b[1mPredictions saved to c:\\Users\\Keenan Samway\\Documents\\GitHub\\Algal-Bloom-Detection\\data\\benchmark\\val_preds.npy\u001b[0m\n"
     ]
    }
   ],
   "source": [
    "!python predict_gbm_model.py"
   ]
  },
  {
   "attachments": {},
   "cell_type": "markdown",
   "metadata": {},
   "source": [
    "## Evaluate Performance"
   ]
  },
  {
   "cell_type": "code",
   "execution_count": 68,
   "metadata": {},
   "outputs": [],
   "source": [
    "preds_pth = BENCHMARK_DATA_DIR / \"val_preds.npy\"\n",
    "with open(preds_pth, \"rb\") as f:\n",
    "    val_preds = np.load(f)"
   ]
  },
  {
   "cell_type": "code",
   "execution_count": 69,
   "metadata": {},
   "outputs": [
    {
     "data": {
      "text/plain": [
       "array([1, 1, 2, 1, 1, 1, 1, 1, 4, 1], dtype=int64)"
      ]
     },
     "execution_count": 69,
     "metadata": {},
     "output_type": "execute_result"
    }
   ],
   "source": [
    "val_preds[:10]"
   ]
  },
  {
   "cell_type": "code",
   "execution_count": 70,
   "metadata": {},
   "outputs": [
    {
     "data": {
      "text/plain": [
       "1    607\n",
       "2     80\n",
       "3     61\n",
       "4     98\n",
       "dtype: int64"
      ]
     },
     "execution_count": 70,
     "metadata": {},
     "output_type": "execute_result"
    }
   ],
   "source": [
    "pd.Series(val_preds).value_counts().sort_index()"
   ]
  },
  {
   "cell_type": "code",
   "execution_count": 71,
   "metadata": {},
   "outputs": [
    {
     "data": {
      "text/html": [
       "<div>\n",
       "<style scoped>\n",
       "    .dataframe tbody tr th:only-of-type {\n",
       "        vertical-align: middle;\n",
       "    }\n",
       "\n",
       "    .dataframe tbody tr th {\n",
       "        vertical-align: top;\n",
       "    }\n",
       "\n",
       "    .dataframe thead th {\n",
       "        text-align: right;\n",
       "    }\n",
       "</style>\n",
       "<table border=\"1\" class=\"dataframe\">\n",
       "  <thead>\n",
       "    <tr style=\"text-align: right;\">\n",
       "      <th></th>\n",
       "      <th>uid</th>\n",
       "      <th>region</th>\n",
       "      <th>severity</th>\n",
       "      <th>pred</th>\n",
       "    </tr>\n",
       "  </thead>\n",
       "  <tbody>\n",
       "    <tr>\n",
       "      <th>37</th>\n",
       "      <td>aboc</td>\n",
       "      <td>midwest</td>\n",
       "      <td>1</td>\n",
       "      <td>1</td>\n",
       "    </tr>\n",
       "    <tr>\n",
       "      <th>42</th>\n",
       "      <td>abso</td>\n",
       "      <td>south</td>\n",
       "      <td>2</td>\n",
       "      <td>1</td>\n",
       "    </tr>\n",
       "    <tr>\n",
       "      <th>91</th>\n",
       "      <td>aduy</td>\n",
       "      <td>south</td>\n",
       "      <td>2</td>\n",
       "      <td>2</td>\n",
       "    </tr>\n",
       "    <tr>\n",
       "      <th>94</th>\n",
       "      <td>adwl</td>\n",
       "      <td>south</td>\n",
       "      <td>1</td>\n",
       "      <td>1</td>\n",
       "    </tr>\n",
       "    <tr>\n",
       "      <th>120</th>\n",
       "      <td>afbi</td>\n",
       "      <td>midwest</td>\n",
       "      <td>4</td>\n",
       "      <td>1</td>\n",
       "    </tr>\n",
       "  </tbody>\n",
       "</table>\n",
       "</div>"
      ],
      "text/plain": [
       "      uid   region  severity  pred\n",
       "37   aboc  midwest         1     1\n",
       "42   abso    south         2     1\n",
       "91   aduy    south         2     2\n",
       "94   adwl    south         1     1\n",
       "120  afbi  midwest         4     1"
      ]
     },
     "execution_count": 71,
     "metadata": {},
     "output_type": "execute_result"
    }
   ],
   "source": [
    "# get the validation part of the training data\n",
    "val_set = train_data[train_data.split == \"validation\"][\n",
    "    [\"uid\", \"region\", \"severity\"]\n",
    "].copy()\n",
    "val_set[\"pred\"] = val_preds\n",
    "\n",
    "val_set.head()"
   ]
  },
  {
   "cell_type": "code",
   "execution_count": 72,
   "metadata": {},
   "outputs": [
    {
     "name": "stdout",
     "output_type": "stream",
     "text": [
      "RMSE for midwest (n=99): 1.6112\n",
      "RMSE for south (n=498): 1.104\n",
      "RMSE for west (n=200): 2.0384\n",
      "RMSE for northeast (n=49): 1.2372\n",
      "Final score: 1.4976964984507677\n"
     ]
    }
   ],
   "source": [
    "region_scores = []\n",
    "for region in val_set.region.unique():\n",
    "    sub = val_set[val_set.region == region]\n",
    "    region_rmse = mean_squared_error(sub.severity, sub.pred, squared=False)\n",
    "    print(f\"RMSE for {region} (n={len(sub)}): {round(region_rmse, 4)}\")\n",
    "    region_scores.append(region_rmse)\n",
    "\n",
    "overall_rmse = np.mean(region_scores)\n",
    "print(f\"Final score: {overall_rmse}\")"
   ]
  },
  {
   "cell_type": "code",
   "execution_count": 73,
   "metadata": {},
   "outputs": [
    {
     "data": {
      "text/plain": [
       "1.446443424942809"
      ]
     },
     "execution_count": 73,
     "metadata": {},
     "output_type": "execute_result"
    }
   ],
   "source": [
    "# what's our RMSE across all validation data points?\n",
    "mean_squared_error(y_val, val_preds, squared=False)"
   ]
  },
  {
   "cell_type": "code",
   "execution_count": 74,
   "metadata": {},
   "outputs": [
    {
     "data": {
      "text/html": [
       "<div>\n",
       "<style scoped>\n",
       "    .dataframe tbody tr th:only-of-type {\n",
       "        vertical-align: middle;\n",
       "    }\n",
       "\n",
       "    .dataframe tbody tr th {\n",
       "        vertical-align: top;\n",
       "    }\n",
       "\n",
       "    .dataframe thead th {\n",
       "        text-align: right;\n",
       "    }\n",
       "</style>\n",
       "<table border=\"1\" class=\"dataframe\">\n",
       "  <thead>\n",
       "    <tr style=\"text-align: right;\">\n",
       "      <th></th>\n",
       "      <th>predicted</th>\n",
       "      <th>actual</th>\n",
       "    </tr>\n",
       "    <tr>\n",
       "      <th>severity_level_count</th>\n",
       "      <th></th>\n",
       "      <th></th>\n",
       "    </tr>\n",
       "  </thead>\n",
       "  <tbody>\n",
       "    <tr>\n",
       "      <th>1</th>\n",
       "      <td>607.0</td>\n",
       "      <td>356</td>\n",
       "    </tr>\n",
       "    <tr>\n",
       "      <th>2</th>\n",
       "      <td>80.0</td>\n",
       "      <td>172</td>\n",
       "    </tr>\n",
       "    <tr>\n",
       "      <th>3</th>\n",
       "      <td>61.0</td>\n",
       "      <td>136</td>\n",
       "    </tr>\n",
       "    <tr>\n",
       "      <th>4</th>\n",
       "      <td>98.0</td>\n",
       "      <td>178</td>\n",
       "    </tr>\n",
       "    <tr>\n",
       "      <th>5</th>\n",
       "      <td>NaN</td>\n",
       "      <td>4</td>\n",
       "    </tr>\n",
       "  </tbody>\n",
       "</table>\n",
       "</div>"
      ],
      "text/plain": [
       "                      predicted  actual\n",
       "severity_level_count                   \n",
       "1                         607.0     356\n",
       "2                          80.0     172\n",
       "3                          61.0     136\n",
       "4                          98.0     178\n",
       "5                           NaN       4"
      ]
     },
     "execution_count": 74,
     "metadata": {},
     "output_type": "execute_result"
    }
   ],
   "source": [
    "# how many times did each severity level show up in our predictions vs. the actual values?\n",
    "val_results = pd.DataFrame({\"pred\": val_preds, \"actual\": y_val})\n",
    "\n",
    "pd.concat(\n",
    "    [\n",
    "        val_results.pred.value_counts().sort_index().rename(\"predicted\"),\n",
    "        val_results.actual.value_counts().sort_index().rename(\"actual\"),\n",
    "    ],\n",
    "    axis=1,\n",
    ").rename_axis(\"severity_level_count\")"
   ]
  },
  {
   "cell_type": "code",
   "execution_count": 75,
   "metadata": {},
   "outputs": [
    {
     "data": {
      "text/html": [
       "<div>\n",
       "<style scoped>\n",
       "    .dataframe tbody tr th:only-of-type {\n",
       "        vertical-align: middle;\n",
       "    }\n",
       "\n",
       "    .dataframe tbody tr th {\n",
       "        vertical-align: top;\n",
       "    }\n",
       "\n",
       "    .dataframe thead th {\n",
       "        text-align: right;\n",
       "    }\n",
       "</style>\n",
       "<table border=\"1\" class=\"dataframe\">\n",
       "  <thead>\n",
       "    <tr style=\"text-align: right;\">\n",
       "      <th></th>\n",
       "      <th>red_average</th>\n",
       "      <th>green_average</th>\n",
       "      <th>blue_average</th>\n",
       "      <th>red_median</th>\n",
       "      <th>green_median</th>\n",
       "      <th>blue_median</th>\n",
       "    </tr>\n",
       "  </thead>\n",
       "  <tbody>\n",
       "    <tr>\n",
       "      <th>umac</th>\n",
       "      <td>26.305195</td>\n",
       "      <td>44.173160</td>\n",
       "      <td>28.357143</td>\n",
       "      <td>25.0</td>\n",
       "      <td>34.0</td>\n",
       "      <td>27.0</td>\n",
       "    </tr>\n",
       "    <tr>\n",
       "      <th>egox</th>\n",
       "      <td>59.125000</td>\n",
       "      <td>108.875000</td>\n",
       "      <td>26.718750</td>\n",
       "      <td>22.0</td>\n",
       "      <td>90.5</td>\n",
       "      <td>11.0</td>\n",
       "    </tr>\n",
       "    <tr>\n",
       "      <th>havx</th>\n",
       "      <td>68.640625</td>\n",
       "      <td>131.281250</td>\n",
       "      <td>30.859375</td>\n",
       "      <td>55.0</td>\n",
       "      <td>123.0</td>\n",
       "      <td>25.5</td>\n",
       "    </tr>\n",
       "    <tr>\n",
       "      <th>laoq</th>\n",
       "      <td>168.375000</td>\n",
       "      <td>206.484375</td>\n",
       "      <td>26.218750</td>\n",
       "      <td>165.0</td>\n",
       "      <td>205.5</td>\n",
       "      <td>25.0</td>\n",
       "    </tr>\n",
       "    <tr>\n",
       "      <th>ttsk</th>\n",
       "      <td>24.071429</td>\n",
       "      <td>41.266234</td>\n",
       "      <td>21.489177</td>\n",
       "      <td>23.0</td>\n",
       "      <td>40.0</td>\n",
       "      <td>21.0</td>\n",
       "    </tr>\n",
       "    <tr>\n",
       "      <th>...</th>\n",
       "      <td>...</td>\n",
       "      <td>...</td>\n",
       "      <td>...</td>\n",
       "      <td>...</td>\n",
       "      <td>...</td>\n",
       "      <td>...</td>\n",
       "    </tr>\n",
       "    <tr>\n",
       "      <th>zzpn</th>\n",
       "      <td>42.372294</td>\n",
       "      <td>67.093074</td>\n",
       "      <td>55.326840</td>\n",
       "      <td>36.0</td>\n",
       "      <td>63.0</td>\n",
       "      <td>52.0</td>\n",
       "    </tr>\n",
       "    <tr>\n",
       "      <th>zzrv</th>\n",
       "      <td>106.716450</td>\n",
       "      <td>77.885281</td>\n",
       "      <td>51.517316</td>\n",
       "      <td>90.0</td>\n",
       "      <td>71.0</td>\n",
       "      <td>46.0</td>\n",
       "    </tr>\n",
       "    <tr>\n",
       "      <th>zzsx</th>\n",
       "      <td>44.778926</td>\n",
       "      <td>49.993802</td>\n",
       "      <td>43.316116</td>\n",
       "      <td>40.0</td>\n",
       "      <td>45.0</td>\n",
       "      <td>40.0</td>\n",
       "    </tr>\n",
       "    <tr>\n",
       "      <th>zzvv</th>\n",
       "      <td>82.703125</td>\n",
       "      <td>87.343750</td>\n",
       "      <td>158.406250</td>\n",
       "      <td>79.5</td>\n",
       "      <td>82.0</td>\n",
       "      <td>158.5</td>\n",
       "    </tr>\n",
       "    <tr>\n",
       "      <th>zzzi</th>\n",
       "      <td>0.000000</td>\n",
       "      <td>0.000000</td>\n",
       "      <td>0.000000</td>\n",
       "      <td>0.0</td>\n",
       "      <td>0.0</td>\n",
       "      <td>0.0</td>\n",
       "    </tr>\n",
       "  </tbody>\n",
       "</table>\n",
       "<p>8784 rows × 6 columns</p>\n",
       "</div>"
      ],
      "text/plain": [
       "      red_average  green_average  blue_average  red_median  green_median  \\\n",
       "umac    26.305195      44.173160     28.357143        25.0          34.0   \n",
       "egox    59.125000     108.875000     26.718750        22.0          90.5   \n",
       "havx    68.640625     131.281250     30.859375        55.0         123.0   \n",
       "laoq   168.375000     206.484375     26.218750       165.0         205.5   \n",
       "ttsk    24.071429      41.266234     21.489177        23.0          40.0   \n",
       "...           ...            ...           ...         ...           ...   \n",
       "zzpn    42.372294      67.093074     55.326840        36.0          63.0   \n",
       "zzrv   106.716450      77.885281     51.517316        90.0          71.0   \n",
       "zzsx    44.778926      49.993802     43.316116        40.0          45.0   \n",
       "zzvv    82.703125      87.343750    158.406250        79.5          82.0   \n",
       "zzzi     0.000000       0.000000      0.000000         0.0           0.0   \n",
       "\n",
       "      blue_median  \n",
       "umac         27.0  \n",
       "egox         11.0  \n",
       "havx         25.5  \n",
       "laoq         25.0  \n",
       "ttsk         21.0  \n",
       "...           ...  \n",
       "zzpn         52.0  \n",
       "zzrv         46.0  \n",
       "zzsx         40.0  \n",
       "zzvv        158.5  \n",
       "zzzi          0.0  \n",
       "\n",
       "[8784 rows x 6 columns]"
      ]
     },
     "execution_count": 75,
     "metadata": {},
     "output_type": "execute_result"
    }
   ],
   "source": [
    "image_features"
   ]
  },
  {
   "cell_type": "code",
   "execution_count": 76,
   "metadata": {},
   "outputs": [
    {
     "data": {
      "text/html": [
       "<div>\n",
       "<style scoped>\n",
       "    .dataframe tbody tr th:only-of-type {\n",
       "        vertical-align: middle;\n",
       "    }\n",
       "\n",
       "    .dataframe tbody tr th {\n",
       "        vertical-align: top;\n",
       "    }\n",
       "\n",
       "    .dataframe thead th {\n",
       "        text-align: right;\n",
       "    }\n",
       "</style>\n",
       "<table border=\"1\" class=\"dataframe\">\n",
       "  <thead>\n",
       "    <tr style=\"text-align: right;\">\n",
       "      <th></th>\n",
       "      <th>region</th>\n",
       "      <th>severity</th>\n",
       "      <th>red_average</th>\n",
       "      <th>green_average</th>\n",
       "      <th>blue_average</th>\n",
       "      <th>red_median</th>\n",
       "      <th>green_median</th>\n",
       "      <th>blue_median</th>\n",
       "    </tr>\n",
       "    <tr>\n",
       "      <th>uid</th>\n",
       "      <th></th>\n",
       "      <th></th>\n",
       "      <th></th>\n",
       "      <th></th>\n",
       "      <th></th>\n",
       "      <th></th>\n",
       "      <th></th>\n",
       "      <th></th>\n",
       "    </tr>\n",
       "  </thead>\n",
       "  <tbody>\n",
       "    <tr>\n",
       "      <th>aabn</th>\n",
       "      <td>west</td>\n",
       "      <td>1</td>\n",
       "      <td>0.000000</td>\n",
       "      <td>0.000000</td>\n",
       "      <td>0.000000</td>\n",
       "      <td>0.0</td>\n",
       "      <td>0.0</td>\n",
       "      <td>0.0</td>\n",
       "    </tr>\n",
       "    <tr>\n",
       "      <th>aair</th>\n",
       "      <td>west</td>\n",
       "      <td>1</td>\n",
       "      <td>156.718750</td>\n",
       "      <td>141.578125</td>\n",
       "      <td>143.578125</td>\n",
       "      <td>159.5</td>\n",
       "      <td>146.5</td>\n",
       "      <td>146.5</td>\n",
       "    </tr>\n",
       "    <tr>\n",
       "      <th>aajw</th>\n",
       "      <td>northeast</td>\n",
       "      <td>1</td>\n",
       "      <td>111.795918</td>\n",
       "      <td>121.775510</td>\n",
       "      <td>62.000000</td>\n",
       "      <td>97.0</td>\n",
       "      <td>116.0</td>\n",
       "      <td>50.0</td>\n",
       "    </tr>\n",
       "    <tr>\n",
       "      <th>aalr</th>\n",
       "      <td>midwest</td>\n",
       "      <td>1</td>\n",
       "      <td>255.000000</td>\n",
       "      <td>255.000000</td>\n",
       "      <td>255.000000</td>\n",
       "      <td>255.0</td>\n",
       "      <td>255.0</td>\n",
       "      <td>255.0</td>\n",
       "    </tr>\n",
       "    <tr>\n",
       "      <th>aalw</th>\n",
       "      <td>west</td>\n",
       "      <td>1</td>\n",
       "      <td>127.997732</td>\n",
       "      <td>105.900227</td>\n",
       "      <td>84.965986</td>\n",
       "      <td>128.0</td>\n",
       "      <td>93.0</td>\n",
       "      <td>72.0</td>\n",
       "    </tr>\n",
       "    <tr>\n",
       "      <th>...</th>\n",
       "      <td>...</td>\n",
       "      <td>...</td>\n",
       "      <td>...</td>\n",
       "      <td>...</td>\n",
       "      <td>...</td>\n",
       "      <td>...</td>\n",
       "      <td>...</td>\n",
       "      <td>...</td>\n",
       "    </tr>\n",
       "    <tr>\n",
       "      <th>zzpn</th>\n",
       "      <td>northeast</td>\n",
       "      <td>1</td>\n",
       "      <td>42.372294</td>\n",
       "      <td>67.093074</td>\n",
       "      <td>55.326840</td>\n",
       "      <td>36.0</td>\n",
       "      <td>63.0</td>\n",
       "      <td>52.0</td>\n",
       "    </tr>\n",
       "    <tr>\n",
       "      <th>zzrv</th>\n",
       "      <td>west</td>\n",
       "      <td>1</td>\n",
       "      <td>106.716450</td>\n",
       "      <td>77.885281</td>\n",
       "      <td>51.517316</td>\n",
       "      <td>90.0</td>\n",
       "      <td>71.0</td>\n",
       "      <td>46.0</td>\n",
       "    </tr>\n",
       "    <tr>\n",
       "      <th>zzsx</th>\n",
       "      <td>south</td>\n",
       "      <td>1</td>\n",
       "      <td>44.778926</td>\n",
       "      <td>49.993802</td>\n",
       "      <td>43.316116</td>\n",
       "      <td>40.0</td>\n",
       "      <td>45.0</td>\n",
       "      <td>40.0</td>\n",
       "    </tr>\n",
       "    <tr>\n",
       "      <th>zzvv</th>\n",
       "      <td>west</td>\n",
       "      <td>1</td>\n",
       "      <td>82.703125</td>\n",
       "      <td>87.343750</td>\n",
       "      <td>158.406250</td>\n",
       "      <td>79.5</td>\n",
       "      <td>82.0</td>\n",
       "      <td>158.5</td>\n",
       "    </tr>\n",
       "    <tr>\n",
       "      <th>zzzi</th>\n",
       "      <td>midwest</td>\n",
       "      <td>1</td>\n",
       "      <td>0.000000</td>\n",
       "      <td>0.000000</td>\n",
       "      <td>0.000000</td>\n",
       "      <td>0.0</td>\n",
       "      <td>0.0</td>\n",
       "      <td>0.0</td>\n",
       "    </tr>\n",
       "  </tbody>\n",
       "</table>\n",
       "<p>6510 rows × 8 columns</p>\n",
       "</div>"
      ],
      "text/plain": [
       "         region  severity  red_average  green_average  blue_average  \\\n",
       "uid                                                                   \n",
       "aabn       west         1     0.000000       0.000000      0.000000   \n",
       "aair       west         1   156.718750     141.578125    143.578125   \n",
       "aajw  northeast         1   111.795918     121.775510     62.000000   \n",
       "aalr    midwest         1   255.000000     255.000000    255.000000   \n",
       "aalw       west         1   127.997732     105.900227     84.965986   \n",
       "...         ...       ...          ...            ...           ...   \n",
       "zzpn  northeast         1    42.372294      67.093074     55.326840   \n",
       "zzrv       west         1   106.716450      77.885281     51.517316   \n",
       "zzsx      south         1    44.778926      49.993802     43.316116   \n",
       "zzvv       west         1    82.703125      87.343750    158.406250   \n",
       "zzzi    midwest         1     0.000000       0.000000      0.000000   \n",
       "\n",
       "      red_median  green_median  blue_median  \n",
       "uid                                          \n",
       "aabn         0.0           0.0          0.0  \n",
       "aair       159.5         146.5        146.5  \n",
       "aajw        97.0         116.0         50.0  \n",
       "aalr       255.0         255.0        255.0  \n",
       "aalw       128.0          93.0         72.0  \n",
       "...          ...           ...          ...  \n",
       "zzpn        36.0          63.0         52.0  \n",
       "zzrv        90.0          71.0         46.0  \n",
       "zzsx        40.0          45.0         40.0  \n",
       "zzvv        79.5          82.0        158.5  \n",
       "zzzi         0.0           0.0          0.0  \n",
       "\n",
       "[6510 rows x 8 columns]"
      ]
     },
     "execution_count": 76,
     "metadata": {},
     "output_type": "execute_result"
    }
   ],
   "source": [
    "# get the image features for the test set\n",
    "test_features = submission_format.join(image_features, how=\"left\", validate=\"1:1\")\n",
    "\n",
    "# make sure our features are in the same order as the submission format\n",
    "assert (test_features.index == submission_format.index).all()\n",
    "\n",
    "test_features"
   ]
  },
  {
   "cell_type": "code",
   "execution_count": 77,
   "metadata": {},
   "outputs": [
    {
     "data": {
      "text/plain": [
       "region             0\n",
       "severity           0\n",
       "red_average      176\n",
       "green_average    176\n",
       "blue_average     176\n",
       "red_median       176\n",
       "green_median     176\n",
       "blue_median      176\n",
       "dtype: int64"
      ]
     },
     "execution_count": 77,
     "metadata": {},
     "output_type": "execute_result"
    }
   ],
   "source": [
    "test_features.isna().sum()"
   ]
  },
  {
   "cell_type": "code",
   "execution_count": 78,
   "metadata": {},
   "outputs": [],
   "source": [
    "# fill in missing values\n",
    "for avg_col in [\"red_average\", \"green_average\", \"blue_average\"]:\n",
    "    test_features[avg_col] = test_features[avg_col].fillna(\n",
    "        test_features[avg_col].mean()\n",
    "    )\n",
    "for median_col in [\"red_median\", \"green_median\", \"blue_median\"]:\n",
    "    test_features[median_col] = test_features[median_col].fillna(\n",
    "        test_features[median_col].median()\n",
    "    )"
   ]
  },
  {
   "cell_type": "code",
   "execution_count": 79,
   "metadata": {},
   "outputs": [
    {
     "name": "stdout",
     "output_type": "stream",
     "text": [
      "(6510, 6)\n"
     ]
    },
    {
     "data": {
      "text/plain": [
       "array([156.71875 , 141.578125, 143.578125, 159.5     , 146.5     ,\n",
       "       146.5     ])"
      ]
     },
     "execution_count": 79,
     "metadata": {},
     "output_type": "execute_result"
    }
   ],
   "source": [
    "# select feature columns\n",
    "feature_cols = [\n",
    "    \"red_average\",\n",
    "    \"green_average\",\n",
    "    \"blue_average\",\n",
    "    \"red_median\",\n",
    "    \"green_median\",\n",
    "    \"blue_median\",\n",
    "]\n",
    "\n",
    "X_test = test_features[feature_cols].values\n",
    "\n",
    "print(X_test.shape)\n",
    "\n",
    "X_test[1]"
   ]
  },
  {
   "cell_type": "code",
   "execution_count": 80,
   "metadata": {},
   "outputs": [],
   "source": [
    "# save out test features\n",
    "x_test_pth = BENCHMARK_DATA_DIR / \"x_test.npy\"\n",
    "with open(x_test_pth, \"wb\") as f:\n",
    "    np.save(f, X_test)"
   ]
  },
  {
   "cell_type": "code",
   "execution_count": 81,
   "metadata": {},
   "outputs": [],
   "source": [
    "test_preds_pth = BENCHMARK_DATA_DIR / \"test_preds.npy\""
   ]
  },
  {
   "cell_type": "code",
   "execution_count": 91,
   "metadata": {},
   "outputs": [
    {
     "name": "stderr",
     "output_type": "stream",
     "text": [
      "\u001b[32m2023-02-10 17:52:24.505\u001b[0m | \u001b[1mINFO    \u001b[0m | \u001b[36m__main__\u001b[0m:\u001b[36mmain\u001b[0m:\u001b[36m23\u001b[0m - \u001b[1mLoaded model LGBMClassifier(random_state=10) from c:\\Users\\Keenan Samway\\Documents\\GitHub\\Algal-Bloom-Detection\\data\\benchmark\\lgb_classifier.txt\u001b[0m\n",
      "\u001b[32m2023-02-10 17:52:24.514\u001b[0m | \u001b[1mINFO    \u001b[0m | \u001b[36m__main__\u001b[0m:\u001b[36mmain\u001b[0m:\u001b[36m28\u001b[0m - \u001b[1mLoaded features of shape (6510, 6) from data\\benchmark\\x_test.npy\u001b[0m\n",
      "\u001b[32m2023-02-10 17:52:24.532\u001b[0m | \u001b[32m\u001b[1mSUCCESS \u001b[0m | \u001b[36m__main__\u001b[0m:\u001b[36mmain\u001b[0m:\u001b[36m36\u001b[0m - \u001b[32m\u001b[1mPredictions saved to data\\benchmark\\test_preds.npy\u001b[0m\n"
     ]
    }
   ],
   "source": [
    "!python predict_gbm_model.py --features-path {x_test_pth.relative_to(Path.cwd())} --preds-save-path {test_preds_pth.relative_to(Path.cwd())}"
   ]
  },
  {
   "cell_type": "code",
   "execution_count": 92,
   "metadata": {},
   "outputs": [],
   "source": [
    "# load our predictions\n",
    "with open(test_preds_pth, \"rb\") as f:\n",
    "    test_preds = np.load(f)"
   ]
  },
  {
   "cell_type": "code",
   "execution_count": 93,
   "metadata": {},
   "outputs": [
    {
     "data": {
      "text/html": [
       "<div>\n",
       "<style scoped>\n",
       "    .dataframe tbody tr th:only-of-type {\n",
       "        vertical-align: middle;\n",
       "    }\n",
       "\n",
       "    .dataframe tbody tr th {\n",
       "        vertical-align: top;\n",
       "    }\n",
       "\n",
       "    .dataframe thead th {\n",
       "        text-align: right;\n",
       "    }\n",
       "</style>\n",
       "<table border=\"1\" class=\"dataframe\">\n",
       "  <thead>\n",
       "    <tr style=\"text-align: right;\">\n",
       "      <th></th>\n",
       "      <th>region</th>\n",
       "      <th>severity</th>\n",
       "    </tr>\n",
       "    <tr>\n",
       "      <th>uid</th>\n",
       "      <th></th>\n",
       "      <th></th>\n",
       "    </tr>\n",
       "  </thead>\n",
       "  <tbody>\n",
       "    <tr>\n",
       "      <th>aabn</th>\n",
       "      <td>west</td>\n",
       "      <td>1</td>\n",
       "    </tr>\n",
       "    <tr>\n",
       "      <th>aair</th>\n",
       "      <td>west</td>\n",
       "      <td>3</td>\n",
       "    </tr>\n",
       "    <tr>\n",
       "      <th>aajw</th>\n",
       "      <td>northeast</td>\n",
       "      <td>4</td>\n",
       "    </tr>\n",
       "    <tr>\n",
       "      <th>aalr</th>\n",
       "      <td>midwest</td>\n",
       "      <td>1</td>\n",
       "    </tr>\n",
       "    <tr>\n",
       "      <th>aalw</th>\n",
       "      <td>west</td>\n",
       "      <td>4</td>\n",
       "    </tr>\n",
       "  </tbody>\n",
       "</table>\n",
       "</div>"
      ],
      "text/plain": [
       "         region  severity\n",
       "uid                      \n",
       "aabn       west         1\n",
       "aair       west         3\n",
       "aajw  northeast         4\n",
       "aalr    midwest         1\n",
       "aalw       west         4"
      ]
     },
     "execution_count": 93,
     "metadata": {},
     "output_type": "execute_result"
    }
   ],
   "source": [
    "submission = submission_format.copy()\n",
    "submission[\"severity\"] = test_preds\n",
    "\n",
    "submission.head()"
   ]
  },
  {
   "cell_type": "code",
   "execution_count": 94,
   "metadata": {},
   "outputs": [],
   "source": [
    "# save out our formatted submission\n",
    "submission_save_path = BENCHMARK_DATA_DIR / \"submission.csv\"\n",
    "submission.to_csv(submission_save_path, index=True)"
   ]
  },
  {
   "cell_type": "code",
   "execution_count": 96,
   "metadata": {},
   "outputs": [
    {
     "name": "stderr",
     "output_type": "stream",
     "text": [
      "'head' is not recognized as an internal or external command,\n",
      "operable program or batch file.\n"
     ]
    }
   ],
   "source": [
    "# make sure our saved csv looks correct\n",
    "!cat {submission_save_path} | head -5"
   ]
  }
 ],
 "metadata": {
  "kernelspec": {
   "display_name": "algae",
   "language": "python",
   "name": "python3"
  },
  "language_info": {
   "codemirror_mode": {
    "name": "ipython",
    "version": 3
   },
   "file_extension": ".py",
   "mimetype": "text/x-python",
   "name": "python",
   "nbconvert_exporter": "python",
   "pygments_lexer": "ipython3",
   "version": "3.9.16"
  },
  "orig_nbformat": 4,
  "vscode": {
   "interpreter": {
    "hash": "d5064345b0d58fd2fcf3dda7597a90bdf293cddcb997317e100b9e3dab1db3ef"
   }
  }
 },
 "nbformat": 4,
 "nbformat_minor": 2
}
